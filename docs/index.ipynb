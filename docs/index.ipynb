{
 "cells": [
  {
   "cell_type": "markdown",
   "id": "48401394-c158-4e89-86ff-7bd5919eab9a",
   "metadata": {},
   "source": [
    "```{include} ../README.md\n",
    "\n",
    "```"
   ]
  },
  {
   "cell_type": "markdown",
   "id": "e495cdca-bdc6-4ab4-9a42-69d3c7d9cde6",
   "metadata": {},
   "source": [
    "## documentation contents\n",
    "\n",
    "```{toctree}\n",
    ":maxdepth: 2\n",
    "new\n",
    "graph\n",
    "work\n",
    "```"
   ]
  }
 ],
 "metadata": {
  "kernelspec": {
   "display_name": "Python 3 (ipykernel)",
   "language": "python",
   "name": "python3"
  },
  "language_info": {
   "codemirror_mode": {
    "name": "ipython",
    "version": 3
   },
   "file_extension": ".py",
   "mimetype": "text/x-python",
   "name": "python",
   "nbconvert_exporter": "python",
   "pygments_lexer": "ipython3",
   "version": "3.11.6"
  }
 },
 "nbformat": 4,
 "nbformat_minor": 5
}
