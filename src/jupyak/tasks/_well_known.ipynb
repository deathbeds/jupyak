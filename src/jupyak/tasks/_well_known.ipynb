{
 "cells": [
  {
   "cell_type": "markdown",
   "id": "7dc3654c-6525-4825-b69b-2ed944a61c7e",
   "metadata": {},
   "source": [
    "# well-known\n",
    "\n",
    "Names of files, paths and environment variables"
   ]
  },
  {
   "cell_type": "markdown",
   "id": "74dd782a-48fa-4bbc-b4e1-fb7f62e057a3",
   "metadata": {},
   "source": [
    "## git"
   ]
  },
  {
   "cell_type": "code",
   "execution_count": null,
   "id": "329db435-0116-431d-9b92-eca9d5586e0b",
   "metadata": {},
   "outputs": [],
   "source": [
    "DOT_GIT = \".git\"\n",
    "GITCONFIG = f\"{DOT_GIT}/config\""
   ]
  },
  {
   "cell_type": "markdown",
   "id": "b060f3d8-5656-4c75-9306-44b2556bf454",
   "metadata": {},
   "source": [
    "## conda"
   ]
  },
  {
   "cell_type": "code",
   "execution_count": null,
   "id": "d5d49bce-31d2-472d-92b5-5d8a3412098a",
   "metadata": {},
   "outputs": [],
   "source": [
    "CONDA_META_HISTORY = \"conda-meta/history\"\n",
    "ENVIRONMENT_YML = \"environment.yml\""
   ]
  },
  {
   "cell_type": "markdown",
   "id": "72d5a738-1a02-422f-b2bc-f3fea1cb684a",
   "metadata": {},
   "source": [
    "## js"
   ]
  },
  {
   "cell_type": "code",
   "execution_count": null,
   "id": "dccf4373-88d7-47c1-bc92-e9107daa9640",
   "metadata": {},
   "outputs": [],
   "source": [
    "PACKAGE_JSON = \"package.json\"\n",
    "YARN_LOCK = \"yarn.lock\"\n",
    "NODE_MODULES = \"node_modules\"\n",
    "YARN_STATE = f\"{NODE_MODULES}/.yarn-state.yml\"\n",
    "TSCONFIG_BUILDINFO = \"tsconfig.tsbuildinfo\"\n",
    "YARNRC = \".yarnrc.yml\""
   ]
  },
  {
   "cell_type": "markdown",
   "id": "f0bc70cc-3901-4f31-bc56-173c2838a883",
   "metadata": {},
   "source": [
    "# py"
   ]
  },
  {
   "cell_type": "code",
   "execution_count": null,
   "id": "7e362098-5f3d-432f-936b-aeda7489f262",
   "metadata": {},
   "outputs": [],
   "source": [
    "PYTHON3 = \"python3\"\n",
    "PYPROJECT_TOML = \"pyproject.toml\"\n",
    "SDIST_EXT = \".tar.gz\"\n",
    "SETUP_CFG = \"setup.cfg\"\n",
    "NOARCH_WHL = \"-py3-none-any.whl\""
   ]
  },
  {
   "cell_type": "markdown",
   "id": "c161cf78-a719-4b30-9e53-af36b804b80b",
   "metadata": {},
   "source": [
    "## jupyter"
   ]
  },
  {
   "cell_type": "code",
   "execution_count": null,
   "id": "09586609-82ff-4705-ad03-7ee50c76041b",
   "metadata": {},
   "outputs": [],
   "source": [
    "IPYNBC = \".ipynb_checkpoints\""
   ]
  },
  {
   "cell_type": "markdown",
   "id": "acbd37ab-6b35-4575-9c0a-91db83b5843b",
   "metadata": {},
   "source": [
    "## jupyterlite"
   ]
  },
  {
   "cell_type": "code",
   "execution_count": null,
   "id": "bcd199d2-15c2-45e7-8843-c839ca808fd2",
   "metadata": {},
   "outputs": [],
   "source": [
    "JUPYTER_LITE_CONFIG = \"jupyter_lite_config.json\"\n",
    "JUPYTER_LITE_JSON = \"jupyter-lite.json\"\n",
    "JUPYTER_LITE_IPYNB = \"jupyter-lite.ipynb\""
   ]
  },
  {
   "cell_type": "markdown",
   "id": "bf12c583-399f-474c-a9f6-dfb2021a7bf8",
   "metadata": {},
   "source": [
    "## jupyak"
   ]
  },
  {
   "cell_type": "code",
   "execution_count": null,
   "id": "be2c0e55-32a3-45ad-8450-db3a49839b44",
   "metadata": {},
   "outputs": [],
   "source": [
    "ENV_VAR_SELF = \"JPYK_SELF\"\n",
    "ENV_VAR_CONFIG = \"JPYK_CONFIG\"\n",
    "ENV_VAR_ALLOW_NO_CONFIG = \"JPYK_ALLOW_NO_CONFIG\"\n",
    "ENV_VAR_WORK_DIR = \"JPYK_WORK_DIR\"\n",
    "JPYK_PIP_DEPS = \"build/pip-deps\"\n",
    "JPYK_CONFIGS = [\n",
    "    \"jupyak_config.json\",\n",
    "    \"jupyak_config.yml\",\n",
    "    \"jupyak_config.yaml\",\n",
    "    \"jupyak_config.toml\",\n",
    "]\n",
    "# todo: configurable working branch name\n",
    "WORK_BRANCH = \"jupyak-work\""
   ]
  },
  {
   "cell_type": "markdown",
   "id": "420d6661-5446-492d-92f0-70d2ca5d4025",
   "metadata": {},
   "source": [
    "## misc"
   ]
  },
  {
   "cell_type": "code",
   "execution_count": null,
   "id": "bc52f37c-a89b-46ef-a6a8-7e24a28bc229",
   "metadata": {},
   "outputs": [],
   "source": [
    "SHA256SUMS = \"SHA256SUMS\""
   ]
  }
 ],
 "metadata": {
  "kernelspec": {
   "display_name": "Python 3 (ipykernel)",
   "language": "python",
   "name": "python3"
  },
  "language_info": {
   "codemirror_mode": {
    "name": "ipython",
    "version": 3
   },
   "file_extension": ".py",
   "mimetype": "text/x-python",
   "name": "python",
   "nbconvert_exporter": "python",
   "pygments_lexer": "ipython3",
   "version": "3.11.6"
  }
 },
 "nbformat": 4,
 "nbformat_minor": 5
}
