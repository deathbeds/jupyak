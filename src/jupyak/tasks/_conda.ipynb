{
 "cells": [
  {
   "cell_type": "markdown",
   "id": "44b3f6fe-130d-4952-afcb-3e03b909ed57",
   "metadata": {},
   "source": [
    "# conda"
   ]
  },
  {
   "cell_type": "code",
   "execution_count": null,
   "id": "3ba976de-f900-4b31-b46f-53f12131f329",
   "metadata": {},
   "outputs": [],
   "source": [
    "import copy\n",
    "from collections import defaultdict\n",
    "from pathlib import Path\n",
    "\n",
    "import doit\n",
    "import importnb\n",
    "import yaml\n",
    "from packaging.utils import canonicalize_name\n",
    "\n",
    "with importnb.Notebook():\n",
    "    import jupyak.tasks._actions as A\n",
    "    import jupyak.tasks._py as P\n",
    "    from jupyak.tasks._yak import Yak"
   ]
  },
  {
   "cell_type": "code",
   "execution_count": null,
   "id": "ae1bc2d4-cfce-44fe-8e4e-abb270d9268b",
   "metadata": {},
   "outputs": [],
   "source": [
    "def conda_tasks(yak: Yak):\n",
    "    env = yak.env\n",
    "    yml_dep = [\n",
    "        P.get_dep_file(py_repo.work_path / ppt, yak)\n",
    "        for py_repo in yak.py_repos.values()\n",
    "        for ppt in [\n",
    "            *py_repo.py.pyproject_tomls,\n",
    "            *py_repo.py.setup_cfgs,\n",
    "        ]\n",
    "    ]\n",
    "    yml = env.environment_yml\n",
    "\n",
    "    yield dict(\n",
    "        name=\"environment.yml\",\n",
    "        uptodate=[\n",
    "            doit.tools.config_changed(env.environment_yml_data),\n",
    "        ],\n",
    "        actions=[\n",
    "            (doit.tools.create_folder, [yak.work_path]),\n",
    "            (make_env, [yak, yml_dep]),\n",
    "        ],\n",
    "        targets=[yml],\n",
    "        file_dep=yml_dep,\n",
    "    )\n",
    "\n",
    "    mamba_args = [\"mamba\", \"env\", \"update\", \"--prefix\", env.venv, \"--file\", yml]\n",
    "\n",
    "    yield dict(\n",
    "        name=\"update\",\n",
    "        actions=[A.run([*mamba_args], {\"cwd\": yak.work_path})],\n",
    "        file_dep=[yml],\n",
    "        targets=[env.venv_history],\n",
    "    )"
   ]
  },
  {
   "cell_type": "code",
   "execution_count": null,
   "id": "5c92aed5-dc84-4088-9608-ab3b65e8d46c",
   "metadata": {},
   "outputs": [],
   "source": [
    "def make_env(yak: Yak, dep_files: list[Path]):\n",
    "    env = copy.deepcopy(yak.env.environment_yml_data)\n",
    "\n",
    "    dep_specs = defaultdict(list)\n",
    "\n",
    "    norm_repos = {canonicalize_name(dep_file.stem) for dep_file in dep_files}\n",
    "\n",
    "    for dep_file in dep_files:\n",
    "        deps = yaml.safe_load(dep_file.read_text(encoding=\"utf-8\"))[\"dependencies\"]\n",
    "        skipped = []\n",
    "        for dep, spec in deps.items():\n",
    "            if dep in norm_repos:\n",
    "                skipped += [dep]\n",
    "                continue\n",
    "            dep_specs[dep].append(spec)\n",
    "        if skipped:\n",
    "            print(\n",
    "                f\"\"\"   ... {dep_file.stem} will use editable: {\", \".join(sorted(set(skipped)))}\"\"\",\n",
    "            )\n",
    "    for dep, specs in dep_specs.items():\n",
    "        spec = \",\".join(s for s in sorted(set(specs)) if s.strip())\n",
    "        env[\"dependencies\"] += [\n",
    "            f\"\"\"{yak.env.pypi_to_conda.get(dep, dep)} {spec}\"\"\".strip(),\n",
    "        ]\n",
    "    env[\"dependencies\"] = sorted(env[\"dependencies\"])\n",
    "    yaml_text = yaml.safe_dump(env, default_flow_style=False)\n",
    "    yak.env.environment_yml.write_text(yaml_text, encoding=\"utf-8\")"
   ]
  }
 ],
 "metadata": {
  "kernelspec": {
   "display_name": "Python 3 (ipykernel)",
   "language": "python",
   "name": "python3"
  },
  "language_info": {
   "codemirror_mode": {
    "name": "ipython",
    "version": 3
   },
   "file_extension": ".py",
   "mimetype": "text/x-python",
   "name": "python",
   "nbconvert_exporter": "python",
   "pygments_lexer": "ipython3",
   "version": "3.11.6"
  }
 },
 "nbformat": 4,
 "nbformat_minor": 5
}
