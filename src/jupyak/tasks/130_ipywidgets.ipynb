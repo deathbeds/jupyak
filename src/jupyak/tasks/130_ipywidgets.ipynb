{
 "cells": [
  {
   "cell_type": "markdown",
   "id": "4b8fa94a-9938-4d4d-9212-b8981f5520d1",
   "metadata": {},
   "source": [
    "# ipywidgets\n",
    "\n",
    "> [`ipywidgets`](https://github.com/jupyter-widgets/ipywidgets) provide observable, interactive experiences for Jupyter kernels. "
   ]
  },
  {
   "cell_type": "code",
   "execution_count": null,
   "id": "2f02033a-8284-4d5d-a598-2dc8c0228dbd",
   "metadata": {},
   "outputs": [],
   "source": [
    "NAME = \"ipywidgets\"\n",
    "GH_ORG = \"jupyter-widgets\"\n",
    "JS_NS = \"@jupyter-widgets\"\n",
    "PY_PROVIDES = [NAME, \"jupyterlab_widgets\", \"widgetsnbextension\"]\n",
    "URL = f\"https://github.com/{GH_ORG}/{NAME}\""
   ]
  },
  {
   "cell_type": "code",
   "execution_count": null,
   "id": "ccbe8b70-15fb-4b2c-824c-1635e479c466",
   "metadata": {},
   "outputs": [],
   "source": [
    "import importnb\n",
    "\n",
    "with importnb.Notebook():\n",
    "    from jupyak.tasks import __comm, __ipython, __jupyterlab, __lumino, __traitlets\n",
    "    from jupyak.tasks import _well_known as W\n",
    "    from jupyak.tasks import _yak as Y"
   ]
  },
  {
   "cell_type": "markdown",
   "id": "868ca23d-757e-4c31-8bea-dfb10fd75f43",
   "metadata": {},
   "source": [
    "## schema"
   ]
  },
  {
   "cell_type": "code",
   "execution_count": null,
   "id": "1c617f4b-4bfd-460a-905a-66dba2c8ed6c",
   "metadata": {},
   "outputs": [],
   "source": [
    "py = \"python\"\n",
    "jlw = f\"{py}/jupyterlab_widgets\"\n",
    "ipw = f\"{py}/ipywidgets\"\n",
    "nbw = f\"{py}/widgetsnbextension\"\n",
    "py_pkgs = [ipw, jlw, nbw]\n",
    "jlw_lib_js = f\"{jlw}/lib/index.js\"\n",
    "jlw_ext = f\"{jlw}/labextension\"\n",
    "jlw_ext_pj = f\"{jlw_ext}/{W.PACKAGE_JSON}\"\n",
    "css_pkgs = [\n",
    "    \"controls\",\n",
    "]\n",
    "src_pkgs = [\n",
    "    \"base\",\n",
    "    \"controls\",\n",
    "    \"base-manager\",\n",
    "    \"html-manager\",\n",
    "    \"output\",\n",
    "]"
   ]
  },
  {
   "cell_type": "code",
   "execution_count": null,
   "id": "5bf1be94-2d95-4966-96f8-6036c68fe7c5",
   "metadata": {},
   "outputs": [],
   "source": [
    "JS_DIST_TASKS = {}\n",
    "\n",
    "all_tsbi = []\n",
    "for i, pkg in enumerate(src_pkgs):\n",
    "    pkg_tsbi = f\"./packages/{pkg}/{W.TSCONFIG_BUILDINFO}\"\n",
    "    all_tsbi += [pkg_tsbi]\n",
    "\n",
    "    task = {\n",
    "        \"name\": \"build\",\n",
    "        \"actions\": [[\"yarn\", \"build:src\"]],\n",
    "        \"file_dep\": [\n",
    "            f\"./packages/{pkg}/src/**/*.ts\",\n",
    "            *([] if not i else [f\"./packages/{src_pkgs[i-1]}/{W.TSCONFIG_BUILDINFO}\"]),\n",
    "        ],\n",
    "        \"targets\": [pkg_tsbi],\n",
    "    }\n",
    "    if pkg in css_pkgs:\n",
    "        task[\"actions\"] += [[\"yarn\", \"build:css\"]]\n",
    "        task[\"file_dep\"] += [f\"./packages/{pkg}/css/**/*.less\"]\n",
    "        task[\"targets\"] += [\n",
    "            {\"glob_neighbor\": [f\"packages/{pkg}/css/*.less\", \"../{stem}.css\"]}\n",
    "        ]\n",
    "    JS_DIST_TASKS[f\"./packages/{pkg}\"] = [task]\n",
    "\n",
    "JS_DIST_TASKS[f\"./{jlw}\"] = [\n",
    "    {\n",
    "        \"name\": \"build\",\n",
    "        \"actions\": [[\"yarn\", \"build:lib\"]],\n",
    "        \"file_dep\": all_tsbi,\n",
    "        \"targets\": [f\"{jlw}/{W.TSCONFIG_BUILDINFO}\", jlw_lib_js],\n",
    "    },\n",
    "]"
   ]
  },
  {
   "cell_type": "code",
   "execution_count": null,
   "id": "063ac78a-8077-4b39-a901-54e1734f4d96",
   "metadata": {},
   "outputs": [],
   "source": [
    "LAB_EXT = {\n",
    "    f\"./{jlw}/\": {\n",
    "        \"file_dep\": [f\"packages/*/{W.TSCONFIG_BUILDINFO}\", jlw_lib_js],\n",
    "        \"targets\": [jlw_ext_pj],\n",
    "    },\n",
    "}"
   ]
  },
  {
   "cell_type": "code",
   "execution_count": null,
   "id": "d2dc54bf-596d-4439-b64f-2a5a5330eeba",
   "metadata": {},
   "outputs": [],
   "source": [
    "DEFAULTS = {\n",
    "    \"name\": NAME,\n",
    "    \"github\": {\"url\": URL},\n",
    "    \"js\": {\n",
    "        \"dependencies\": [\n",
    "            __lumino.NAME,\n",
    "            __jupyterlab.NAME,\n",
    "        ],\n",
    "        \"tasks\": JS_DIST_TASKS,\n",
    "        \"dist_exclude_patterns\": [\"/jupyterlab_widgets\", \"/example\"],\n",
    "    },\n",
    "    \"py\": {\n",
    "        \"pyproject_tomls\": [f\"{py_pkg}/{W.PYPROJECT_TOML}\" for py_pkg in py_pkgs],\n",
    "        \"dependencies\": [\n",
    "            __jupyterlab.NAME,\n",
    "            __ipython.NAME,\n",
    "            __comm.NAME,\n",
    "            __traitlets.NAME,\n",
    "        ],\n",
    "        \"lab_extensions\": LAB_EXT,\n",
    "    },\n",
    "    \"lite\": {\n",
    "        \"wheel_file_dep\": {\"jupyterlab_widgets\": [jlw_ext_pj]},\n",
    "        \"wheel\": True,\n",
    "        \"skip_wheel_patterns\": [\"widgetsnbextension\"],\n",
    "    },\n",
    "}"
   ]
  },
  {
   "cell_type": "code",
   "execution_count": null,
   "id": "ed9c75b3-f1e6-4858-9250-9e4993cf6dcd",
   "metadata": {},
   "outputs": [],
   "source": [
    "@Y.Yak.repo(\n",
    "    NAME,\n",
    "    tuple(DEFAULTS[\"py\"][\"dependencies\"] + DEFAULTS[\"js\"][\"dependencies\"]),\n",
    ")\n",
    "def default_factory(yak: Y.Yak):\n",
    "    return DEFAULTS"
   ]
  }
 ],
 "metadata": {
  "kernelspec": {
   "display_name": "Python 3 (ipykernel)",
   "language": "python",
   "name": "python3"
  },
  "language_info": {
   "codemirror_mode": {
    "name": "ipython",
    "version": 3
   },
   "file_extension": ".py",
   "mimetype": "text/x-python",
   "name": "python",
   "nbconvert_exporter": "python",
   "pygments_lexer": "ipython3",
   "version": "3.11.6"
  }
 },
 "nbformat": 4,
 "nbformat_minor": 5
}
