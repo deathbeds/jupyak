{
 "cells": [
  {
   "cell_type": "markdown",
   "id": "98387287-496b-45e9-b03e-6f82e3ecd008",
   "metadata": {},
   "source": [
    "# self\n",
    "\n",
    "These tasks operate on this `jupyak` as a repo, not a package."
   ]
  },
  {
   "cell_type": "code",
   "execution_count": null,
   "id": "ebd0f7d5-98cd-40bb-a3be-2e4fe6c6e6cc",
   "metadata": {},
   "outputs": [],
   "source": [
    "import json\n",
    "import os\n",
    "import re\n",
    "from pathlib import Path\n",
    "\n",
    "import doit\n",
    "import importnb\n",
    "\n",
    "import jupyak\n",
    "\n",
    "with importnb.Notebook():\n",
    "    from jupyak.tasks import _actions as A\n",
    "    from jupyak.tasks import _graph as G\n",
    "    from jupyak.tasks import _well_known as W\n",
    "try:\n",
    "    import tomllib\n",
    "except ImportError:\n",
    "    import tomli as tomllib"
   ]
  },
  {
   "cell_type": "markdown",
   "id": "f8f43e68-7152-411b-9425-a161a596190e",
   "metadata": {},
   "source": [
    "## tasks"
   ]
  },
  {
   "cell_type": "markdown",
   "id": "17289c99-8cd7-41a6-8163-3ae2eadfe11f",
   "metadata": {},
   "source": [
    "> apply formatting to `jupyak`'s source files"
   ]
  },
  {
   "cell_type": "code",
   "execution_count": null,
   "id": "7eead503-ee52-4cf4-94cc-c36b5062d38c",
   "metadata": {},
   "outputs": [],
   "source": [
    "def task_fix():\n",
    "    lintables = [*ALL_IPYNB, *ALL_PY]\n",
    "    yield dict(\n",
    "        name=\"all\",\n",
    "        doc=\"> run ruff\",\n",
    "        actions=[\n",
    "            [\"nbstripout\", *ALL_IPYNB],\n",
    "            [\"ruff\", \"--fix-only\", *lintables],\n",
    "            [\"ruff\", \"format\", *lintables],\n",
    "        ],\n",
    "        file_dep=[*lintables, PPT],\n",
    "    )"
   ]
  },
  {
   "cell_type": "code",
   "execution_count": null,
   "id": "2efe0f7d-e9ab-45fa-8b10-8b18b1cf1653",
   "metadata": {},
   "outputs": [],
   "source": [
    "def task_env():\n",
    "    env_deps = {BINDER: GH, GH: DOCS}\n",
    "    env_yml = \"environment.yml\"\n",
    "    for dest, src in env_deps.items():\n",
    "        yield dict(\n",
    "            name=f\"{dest.name}:yml\",\n",
    "            doc=f\"> fix the {dest.name} env (from {src.name})\",\n",
    "            actions=[\n",
    "                (\n",
    "                    A.replace_between,\n",
    "                    [src / env_yml, dest / env_yml, f\"### {src.name}/{env_yml} ###\"],\n",
    "                )\n",
    "            ],\n",
    "            targets=[dest / env_yml],\n",
    "            file_dep=[src / env_yml],\n",
    "        )\n",
    "\n",
    "    if not SKIP_CONDA_LOCK:\n",
    "        lock = [f\"{CONDA_EXE}-lock\"]\n",
    "        for env_dir in [BINDER, DOCS, GH]:\n",
    "            yml_path = env_dir / env_yml\n",
    "            yield dict(\n",
    "                name=f\"{env_dir.name}:lock\",\n",
    "                actions=[\n",
    "                    A.AnnouncingCmdAction(\n",
    "                        [*lock, \"--mamba\", \"--file\", env_yml, \"--kind\", \"explicit\"],\n",
    "                        cwd=str(env_dir),\n",
    "                        shell=False,\n",
    "                    ),\n",
    "                ],\n",
    "                targets=[env_dir / BINDER_LOCK.name],\n",
    "                file_dep=[yml_path],\n",
    "            )"
   ]
  },
  {
   "cell_type": "markdown",
   "id": "f19f0e49-532e-4fb2-8c0a-b4bfa0bf5b58",
   "metadata": {},
   "source": [
    "> build python distributions of `jupyak`"
   ]
  },
  {
   "cell_type": "code",
   "execution_count": null,
   "id": "51783926-55bb-4293-8cc7-8c37b512f3e7",
   "metadata": {},
   "outputs": [],
   "source": [
    "def task_build():\n",
    "    yield dict(\n",
    "        name=\"flit\",\n",
    "        doc=\"> build python distributions\",\n",
    "        actions=[[\"pyproject-build\", \".\", \"--no-isolation\"]],\n",
    "        file_dep=[*ALL_SRC_PY, PPT, *ALL_IPYNB, LICENSE, README],\n",
    "        targets=[WHEEL, SDIST],\n",
    "    )"
   ]
  },
  {
   "cell_type": "code",
   "execution_count": null,
   "id": "47a4208f-9b94-4732-aafd-a2354c0ada35",
   "metadata": {},
   "outputs": [],
   "source": [
    "def task_test():\n",
    "    yield dict(\n",
    "        name=\"pytest\",\n",
    "        doc=\"> test with pytest\",\n",
    "        actions=[[\"pytest\", \"tests\"]],\n",
    "        file_dep=[*ALL_SRC_PY, *ALL_TEST_PY, *ALL_IPYNB, PPT],\n",
    "        targets=[REPORT_PYTEST, REPORT_HTMLCOV],\n",
    "    )"
   ]
  },
  {
   "cell_type": "markdown",
   "id": "c09f99f9-2ff7-461a-9c4d-e87fc5d52cec",
   "metadata": {},
   "source": [
    "> build the documentation site for `jupyak` itself"
   ]
  },
  {
   "cell_type": "code",
   "execution_count": null,
   "id": "283d1aa1-2287-464f-b5eb-bca6f62d5ace",
   "metadata": {},
   "outputs": [],
   "source": [
    "def task_docs():\n",
    "    sphinx_deps = [\n",
    "        *ALL_DOCS_STATIC,\n",
    "        *ALL_SRC_PY,\n",
    "        *ALL_DOCS_PY,\n",
    "        *ALL_DOCS_MD,\n",
    "        *ALL_IPYNB,\n",
    "        DOCS_GRAPH,\n",
    "        PPT,\n",
    "        README,\n",
    "        LICENSE,\n",
    "        CONTRIBUTING,\n",
    "    ]\n",
    "    sphinx_task_dep = []\n",
    "    for svg in ALL_DOCS_SVG:\n",
    "        tmp = BUILD / \"scour\" / svg.name\n",
    "        yield dict(\n",
    "            name=f\"scour:{svg.name}\",\n",
    "            actions=[\n",
    "                (doit.tools.create_folder, [tmp.parent]),\n",
    "                [*SCOUR_ARGS, svg, tmp],\n",
    "                (A.copy, [svg, tmp]),\n",
    "                (A.clean, [tmp]),\n",
    "            ],\n",
    "            file_dep=[svg],\n",
    "        )\n",
    "\n",
    "    if WORK_DIST.exists():\n",
    "        sphinx_task_dep += [\"self:docs:deploy:work\"]\n",
    "        yield dict(\n",
    "            name=\"deploy:work\",\n",
    "            doc=\"> copy built assets to docs static\",\n",
    "            actions=[(A.copy, [WORK_DIST, DOCS_STATIC_WORK])],\n",
    "        )\n",
    "\n",
    "    yield dict(\n",
    "        name=\"graph\",\n",
    "        doc=\"> build a graph of the tasks\",\n",
    "        actions=[(G.write_graph, [DOCS_GRAPH])],\n",
    "        file_dep=[*ALL_IPYNB],\n",
    "        targets=[DOCS_GRAPH],\n",
    "    )\n",
    "    yield dict(\n",
    "        name=\"sphinx\",\n",
    "        doc=\"> build documentation with sphinx\",\n",
    "        actions=[[\"sphinx-build\", \"-b\", \"html\", \"docs\", \"build/docs\"]],\n",
    "        file_dep=sphinx_deps,\n",
    "        task_dep=sphinx_task_dep,\n",
    "        targets=[DOCS_BUILDINFO],\n",
    "    )"
   ]
  },
  {
   "cell_type": "markdown",
   "id": "5b6bc0b3-0915-46dd-857e-3330969449b3",
   "metadata": {},
   "source": [
    "> validate examples"
   ]
  },
  {
   "cell_type": "markdown",
   "id": "bb529889-3724-494a-b8d5-c12933c6c620",
   "metadata": {},
   "source": [
    "# env vars"
   ]
  },
  {
   "cell_type": "code",
   "execution_count": null,
   "id": "83408afc-ffde-419a-8626-af9cf2e0bef3",
   "metadata": {},
   "outputs": [],
   "source": [
    "CONDA_EXE = os.environ.get(\"CONDA_EXE\", \"conda\")\n",
    "SKIP_CONDA_LOCK = bool(json.loads(os.environ.get(\"JPYK_SKIP_CONDA_LOCK\", \"1\")))"
   ]
  },
  {
   "cell_type": "markdown",
   "id": "9add413f-29cf-4f2c-97ea-b0c9d49b5d7f",
   "metadata": {},
   "source": [
    "## paths"
   ]
  },
  {
   "cell_type": "code",
   "execution_count": null,
   "id": "aa8b2e23-b1e3-4651-b372-d9bbecd3303e",
   "metadata": {},
   "outputs": [],
   "source": [
    "SRC = Path(jupyak.__file__).parent\n",
    "TASKS = SRC / \"tasks\""
   ]
  },
  {
   "cell_type": "code",
   "execution_count": null,
   "id": "0949c5e3-1bf0-4360-93f3-02781ddd62af",
   "metadata": {},
   "outputs": [],
   "source": [
    "PPT = (\n",
    "    Path(W.PYPROJECT_TOML)\n",
    "    if Path(W.PYPROJECT_TOML).exists()\n",
    "    else SRC.parent.parent / W.PYPROJECT_TOML\n",
    ")"
   ]
  },
  {
   "cell_type": "code",
   "execution_count": null,
   "id": "e5659817-c8a3-412a-a626-03fb9a059a39",
   "metadata": {},
   "outputs": [],
   "source": [
    "ROOT = PPT.parent.resolve()\n",
    "TESTS = ROOT / \"tests\"\n",
    "GH = ROOT / \".github\""
   ]
  },
  {
   "cell_type": "code",
   "execution_count": null,
   "id": "13d97782-cde3-44e0-84b2-dd90488ac441",
   "metadata": {},
   "outputs": [],
   "source": [
    "ALL_TEST_PY = sorted(p for p in TESTS.rglob(\"*.py\") if not re.search(W.IPYNBC, str(p)))\n",
    "ALL_SRC_PY = sorted(p for p in SRC.rglob(\"*.py\") if not re.search(W.IPYNBC, str(p)))"
   ]
  },
  {
   "cell_type": "markdown",
   "id": "1bb36ed7-21f9-45ba-a963-473828e13dee",
   "metadata": {},
   "source": [
    "## project data"
   ]
  },
  {
   "cell_type": "code",
   "execution_count": null,
   "id": "3ecb3094-c7ce-4a65-af8c-d5012eef3800",
   "metadata": {},
   "outputs": [],
   "source": [
    "PPT_DATA = tomllib.loads(PPT.read_text(encoding=\"utf-8\"))\n",
    "PJ = PPT_DATA[\"project\"]"
   ]
  },
  {
   "cell_type": "markdown",
   "id": "7f8c5283-9c98-42a1-9f96-50a5c183957c",
   "metadata": {},
   "source": [
    "## top-level"
   ]
  },
  {
   "cell_type": "code",
   "execution_count": null,
   "id": "28ae8295-1724-4437-bb85-3ac1d28000e6",
   "metadata": {},
   "outputs": [],
   "source": [
    "BUILD = ROOT / \"build\"\n",
    "DIST = ROOT / \"dist\"\n",
    "README = ROOT / \"README.md\"\n",
    "LICENSE = ROOT / \"LICENSE\"\n",
    "CONTRIBUTING = ROOT / \"CONTRIBUTING.md\""
   ]
  },
  {
   "cell_type": "markdown",
   "id": "1881e642-6c01-4f39-a280-eddd1f179a91",
   "metadata": {},
   "source": [
    "## binder"
   ]
  },
  {
   "cell_type": "code",
   "execution_count": null,
   "id": "cc419b39-f123-4313-bb02-ab14bb8b209b",
   "metadata": {},
   "outputs": [],
   "source": [
    "BINDER = ROOT / \".binder\"\n",
    "BINDER_ENV = BINDER / W.ENVIRONMENT_YML\n",
    "BINDER_LOCK = BINDER / \"conda-linux-64.lock\""
   ]
  },
  {
   "cell_type": "markdown",
   "id": "fed0231c-ec71-4551-96eb-42ed491cec1c",
   "metadata": {},
   "source": [
    "## tests"
   ]
  },
  {
   "cell_type": "code",
   "execution_count": null,
   "id": "23b71032-b4a7-4d25-b142-8046a41990d9",
   "metadata": {},
   "outputs": [],
   "source": [
    "REPORTS = BUILD / \"reports\"\n",
    "REPORT_PYTEST = REPORTS / \"pytest.html\"\n",
    "REPORT_HTMLCOV = REPORTS / \"htmlcov/index.html\""
   ]
  },
  {
   "cell_type": "markdown",
   "id": "afa41e89-b878-46c0-8e1d-01bf9826e7db",
   "metadata": {},
   "source": [
    "## docs"
   ]
  },
  {
   "cell_type": "code",
   "execution_count": null,
   "id": "b9db55d2-422f-475a-bad4-2bbb752b5b09",
   "metadata": {},
   "outputs": [],
   "source": [
    "DOCS = ROOT / \"docs\"\n",
    "DOCS_ENV = DOCS / W.ENVIRONMENT_YML\n",
    "DOCS_STATIC = DOCS / \"_static\"\n",
    "DOCS_IMG = DOCS_STATIC / \"img\"\n",
    "DOCS_BUILD = BUILD / \"docs\"\n",
    "DOCS_BUILDINFO = DOCS_BUILD / \".buildinfo\"\n",
    "DOCS_FORM = DOCS_STATIC / \"new.html\"\n",
    "DOCS_ICON = DOCS_IMG / \"logo.svg\"\n",
    "DOCS_GRAPH = DOCS / \"graph.md\"\n",
    "DOCS_CSS = DOCS_STATIC / \"css\"\n",
    "DOCS_STATIC_WORK = DOCS_STATIC / \"work\"\n",
    "ALL_DOCS_STATIC = sorted([*DOCS_CSS.rglob(\"*.*\"), *DOCS_IMG.rglob(\"*.*\")])\n",
    "ALL_DOCS_PY = sorted(DOCS.rglob(\"*.py\"))\n",
    "ALL_DOCS_SVG = sorted(DOCS_IMG.glob(\"*.svg\"))\n",
    "ALL_DOCS_MD = [DOCS_GRAPH, *sorted(DOCS.rglob(\"*.md\"))]"
   ]
  },
  {
   "cell_type": "markdown",
   "id": "c5c235f9-b37f-44f7-999f-1a2d4ec70cde",
   "metadata": {},
   "source": [
    "## work"
   ]
  },
  {
   "cell_type": "code",
   "execution_count": null,
   "id": "378fc936-e824-42fc-8e9b-fd797c043be5",
   "metadata": {},
   "outputs": [],
   "source": [
    "WORK_PATH = Path(os.environ.get(W.ENV_VAR_WORK_DIR) or ROOT / \"work\")\n",
    "WORK_DIST = WORK_PATH / \"dist\"\n",
    "WORK_DIST_LITE_SHASUMS = WORK_DIST / \"lite\" / W.SHA256SUMS"
   ]
  },
  {
   "cell_type": "markdown",
   "id": "2a151051-3377-4a10-ae43-79fe86e0948f",
   "metadata": {},
   "source": [
    "## linting"
   ]
  },
  {
   "cell_type": "code",
   "execution_count": null,
   "id": "ccc2d9b2-66b0-4724-9853-a0008c059b05",
   "metadata": {},
   "outputs": [],
   "source": [
    "ALL_IPYNB = sorted([*TASKS.glob(\"*.ipynb\"), *DOCS.glob(\"*.ipynb\")])\n",
    "ALL_PY = sorted([*ROOT.glob(\"*.py\"), *ALL_SRC_PY, *ALL_DOCS_PY, *ALL_TEST_PY])\n",
    "SCOUR_ARGS = [\"scour\", \"--enable-id-stripping\", \"--enable-comment-stripping\"]"
   ]
  },
  {
   "cell_type": "markdown",
   "id": "ca70d41a-75ea-4992-a69e-e2cd1e521811",
   "metadata": {},
   "source": [
    "## distributions"
   ]
  },
  {
   "cell_type": "code",
   "execution_count": null,
   "id": "8c3f2ac8-50aa-4fb4-83a5-adbc5cd5d3c1",
   "metadata": {},
   "outputs": [],
   "source": [
    "WHEEL = DIST / f\"\"\"{PJ[\"name\"]}-{PJ[\"version\"]}{W.NOARCH_WHL}\"\"\"\n",
    "SDIST = DIST / f\"\"\"{PJ[\"name\"]}-{PJ[\"version\"]}{W.SDIST_EXT}\"\"\""
   ]
  }
 ],
 "metadata": {
  "kernelspec": {
   "display_name": "Python 3 (ipykernel)",
   "language": "python",
   "name": "python3"
  },
  "language_info": {
   "codemirror_mode": {
    "name": "ipython",
    "version": 3
   },
   "file_extension": ".py",
   "mimetype": "text/x-python",
   "name": "python",
   "nbconvert_exporter": "python",
   "pygments_lexer": "ipython3",
   "version": "3.11.6"
  }
 },
 "nbformat": 4,
 "nbformat_minor": 5
}
