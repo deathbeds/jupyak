{
 "cells": [
  {
   "cell_type": "markdown",
   "id": "98387287-496b-45e9-b03e-6f82e3ecd008",
   "metadata": {},
   "source": [
    "# self\n",
    "\n",
    "These tasks operate on this `jupyak` as a repo, not a package."
   ]
  },
  {
   "cell_type": "code",
   "execution_count": null,
   "id": "ebd0f7d5-98cd-40bb-a3be-2e4fe6c6e6cc",
   "metadata": {},
   "outputs": [],
   "source": [
    "import json\n",
    "import os\n",
    "import re\n",
    "import shutil\n",
    "from pathlib import Path\n",
    "\n",
    "import doit\n",
    "import importnb\n",
    "\n",
    "import jupyak\n",
    "\n",
    "with importnb.Notebook():\n",
    "    from jupyak.tasks import _actions as A\n",
    "    from jupyak.tasks import _form as F\n",
    "    from jupyak.tasks import _graph as G\n",
    "    from jupyak.tasks import _well_known as W\n",
    "    from jupyak.tasks import _yak as Y\n",
    "    from jupyak.tasks import load_tasks\n",
    "try:\n",
    "    import tomllib\n",
    "except ImportError:\n",
    "    import tomli as tomllib"
   ]
  },
  {
   "cell_type": "markdown",
   "id": "f8f43e68-7152-411b-9425-a161a596190e",
   "metadata": {},
   "source": [
    "## tasks"
   ]
  },
  {
   "cell_type": "markdown",
   "id": "17289c99-8cd7-41a6-8163-3ae2eadfe11f",
   "metadata": {},
   "source": [
    "> apply formatting to `jupyak`'s source files"
   ]
  },
  {
   "cell_type": "code",
   "execution_count": null,
   "id": "7eead503-ee52-4cf4-94cc-c36b5062d38c",
   "metadata": {},
   "outputs": [],
   "source": [
    "def task_fix():\n",
    "    lintables = [*ALL_IPYNB, *ALL_PY]\n",
    "    yield dict(\n",
    "        name=\"py\",\n",
    "        doc=\"> clean up python\",\n",
    "        actions=[\n",
    "            [\"ruff\", \"--fix-only\", *ALL_PY],\n",
    "            [\"ruff\", \"format\", *ALL_PY],\n",
    "        ],\n",
    "        file_dep=[*ALL_PY, PPT],\n",
    "    )\n",
    "\n",
    "    yield dict(\n",
    "        name=\"ipynb\",\n",
    "        doc=\"> clean up notebooks\",\n",
    "        actions=[\n",
    "            [\"nbstripout\", *ALL_IPYNB],\n",
    "            [\"ruff\", \"--fix-only\", *ALL_IPYNB],\n",
    "            [\"ruff\", \"format\", *ALL_IPYNB],\n",
    "        ],\n",
    "        file_dep=[*ALL_IPYNB, PPT],\n",
    "    )\n",
    "\n",
    "    yield dict(\n",
    "        name=\"pretty\",\n",
    "        doc=\"> clean up web-adjacent files with prettier\",\n",
    "        actions=[[*PRETTIER, *PRETTIER_ARGS, *ALL_PRETTIER]],\n",
    "        file_dep=[*ALL_PRETTIER, JS_STATE],\n",
    "    )"
   ]
  },
  {
   "cell_type": "code",
   "execution_count": null,
   "id": "2efe0f7d-e9ab-45fa-8b10-8b18b1cf1653",
   "metadata": {},
   "outputs": [],
   "source": [
    "def task_env():\n",
    "    env_deps = {BINDER: GH, GH: DOCS}\n",
    "    env_yml = \"environment.yml\"\n",
    "    for dest, src in env_deps.items():\n",
    "        yield dict(\n",
    "            name=f\"{dest.name}:yml\",\n",
    "            doc=f\"> fix the {dest.name} env (from {src.name})\",\n",
    "            actions=[\n",
    "                (\n",
    "                    A.replace_between,\n",
    "                    [src / env_yml, dest / env_yml, f\"### {src.name}/{env_yml} ###\"],\n",
    "                )\n",
    "            ],\n",
    "            targets=[dest / env_yml],\n",
    "            file_dep=[src / env_yml],\n",
    "        )\n",
    "\n",
    "    if not SKIP_CONDA_LOCK:\n",
    "        lock = [f\"{CONDA_EXE}-lock\"]\n",
    "        for env_dir in [BINDER, DOCS, GH]:\n",
    "            yml_path = env_dir / env_yml\n",
    "            yield dict(\n",
    "                name=f\"{env_dir.name}:lock\",\n",
    "                actions=[\n",
    "                    A.AnnouncingCmdAction(\n",
    "                        [*lock, \"--mamba\", \"--file\", env_yml, \"--kind\", \"explicit\"],\n",
    "                        cwd=str(env_dir),\n",
    "                        shell=False,\n",
    "                    ),\n",
    "                ],\n",
    "                targets=[env_dir / BINDER_LOCK.name],\n",
    "                file_dep=[yml_path],\n",
    "            )"
   ]
  },
  {
   "cell_type": "markdown",
   "id": "f19f0e49-532e-4fb2-8c0a-b4bfa0bf5b58",
   "metadata": {},
   "source": [
    "> build python distributions of `jupyak`"
   ]
  },
  {
   "cell_type": "code",
   "execution_count": null,
   "id": "ff01c804-aef0-4246-94cb-255f57535288",
   "metadata": {},
   "outputs": [],
   "source": [
    "def task_js():\n",
    "    if not (CI and JS_STATE.exists()):\n",
    "        yarn_dep = [JS_RC]\n",
    "        if JS_LOCK.exists():\n",
    "            yarn_dep += [JS_LOCK]\n",
    "        dep_groups = [\"dependencies\", \"devDependencies\", \"resolutions\"]\n",
    "\n",
    "        deps = {}\n",
    "        for dep_group in dep_groups:\n",
    "            for data in [JS_PACKAGE_DATA, JS_PACKAGE_ROOT_DATA]:\n",
    "                deps.update(data.get(dep_group, {}))\n",
    "\n",
    "        yield dict(\n",
    "            name=\"install\",\n",
    "            doc=\"> install nodejs dependencies\",\n",
    "            uptodate=[doit.tools.config_changed(deps)],\n",
    "            actions=[YARN],\n",
    "            targets=[JS_STATE],\n",
    "            file_dep=yarn_dep,\n",
    "        )\n",
    "\n",
    "    yield dict(\n",
    "        name=\"lib\",\n",
    "        doc=\"> build custom js lib from ts src\",\n",
    "        actions=[[*YARN, \"build:lib\"]],\n",
    "        file_dep=[JS_STATE, *ALL_TS],\n",
    "        targets=[JS_TSBUILD],\n",
    "    )\n",
    "    all_demo_data = [*ALL_DEMO_JSON]\n",
    "\n",
    "    for fmt in ALT_FORMATS:\n",
    "        for src in ALL_DEMO_JSON:\n",
    "            dest = src.parent / f\"{src.stem}.{fmt}\"\n",
    "            all_demo_data += [dest]\n",
    "            yield dict(\n",
    "                name=f\"demo:{dest.name}\",\n",
    "                file_dep=[src],\n",
    "                targets=[dest],\n",
    "                actions=[(A.transform_one, [src, dest])],\n",
    "            )\n",
    "    yield dict(\n",
    "        name=\"dist\",\n",
    "        doc=\"> build custom js dist from js lib\",\n",
    "        actions=[[*YARN, \"build:dist\"]],\n",
    "        file_dep=[JS_STATE, JS_TSBUILD, JS_WEBPACK_JS, *all_demo_data],\n",
    "        targets=[JS_DIST_JS],\n",
    "    )"
   ]
  },
  {
   "cell_type": "code",
   "execution_count": null,
   "id": "51783926-55bb-4293-8cc7-8c37b512f3e7",
   "metadata": {},
   "outputs": [],
   "source": [
    "def task_build():\n",
    "    yield dict(\n",
    "        name=\"flit\",\n",
    "        doc=\"> build python distributions\",\n",
    "        actions=[\n",
    "            [\"pyproject-build\", \".\", \"--no-isolation\"],\n",
    "            (A.sha256_some, [SHA256SUMS, DIST, [\"*.whl\", \"*.tar.gz\"]]),\n",
    "        ],\n",
    "        file_dep=[*ALL_SRC_PY, PPT, *ALL_IPYNB, LICENSE, README],\n",
    "        targets=[WHEEL, SDIST],\n",
    "    )"
   ]
  },
  {
   "cell_type": "code",
   "execution_count": null,
   "id": "47a4208f-9b94-4732-aafd-a2354c0ada35",
   "metadata": {},
   "outputs": [],
   "source": [
    "def task_test():\n",
    "    yield dict(\n",
    "        name=\"pytest\",\n",
    "        doc=\"> test with pytest\",\n",
    "        actions=[[\"pytest\", \"tests\"]],\n",
    "        file_dep=[*ALL_SRC_PY, *ALL_TEST_PY, *ALL_IPYNB, PPT],\n",
    "        targets=[REPORT_PYTEST, REPORT_HTMLCOV],\n",
    "    )"
   ]
  },
  {
   "cell_type": "markdown",
   "id": "c09f99f9-2ff7-461a-9c4d-e87fc5d52cec",
   "metadata": {},
   "source": [
    "> build the documentation site for `jupyak` itself"
   ]
  },
  {
   "cell_type": "code",
   "execution_count": null,
   "id": "3b2d07e8-86f7-40e9-89b9-ea2aeac92ddc",
   "metadata": {},
   "outputs": [],
   "source": [
    "def task_schema():\n",
    "    def _write_schema():\n",
    "        load_tasks()\n",
    "        yak = Y.Yak({\"repos\": {}})\n",
    "        Y.write_schema(DOCS_SCHEMA, Y.Yak, yak)\n",
    "\n",
    "    yield dict(\n",
    "        name=\"json\",\n",
    "        doc=\"> generate JSON schema for yak as JSON\",\n",
    "        actions=[_write_schema, [*PRETTIER, *PRETTIER_ARGS, DOCS_SCHEMA]],\n",
    "        file_dep=[*ALL_IPYNB, JS_STATE],\n",
    "        targets=[DOCS_SCHEMA],\n",
    "    )\n",
    "    for fmt in ALT_FORMATS:\n",
    "        dest = DOCS_SCHEMA.parent / f\"{DOCS_SCHEMA.stem}.{fmt}\"\n",
    "        yield dict(\n",
    "            name=fmt,\n",
    "            file_dep=[DOCS_SCHEMA],\n",
    "            targets=[dest],\n",
    "            actions=[(A.transform_one, [DOCS_SCHEMA, dest])],\n",
    "        )\n",
    "\n",
    "    for instance_path in ALL_SCHEMA_INSTANCES:\n",
    "        rel = instance_path.relative_to(ROOT)\n",
    "        yield dict(\n",
    "            name=f\"validate:{rel}\",\n",
    "            file_dep=[DOCS_SCHEMA, instance_path],\n",
    "            actions=[(A.validate_one, [DOCS_SCHEMA, instance_path])],\n",
    "        )"
   ]
  },
  {
   "cell_type": "code",
   "execution_count": null,
   "id": "283d1aa1-2287-464f-b5eb-bca6f62d5ace",
   "metadata": {},
   "outputs": [],
   "source": [
    "def task_docs():\n",
    "    sphinx_deps = [\n",
    "        *ALL_DOCS_STATIC,\n",
    "        *ALL_SRC_PY,\n",
    "        *ALL_DOCS_PY,\n",
    "        *ALL_DOCS_MD,\n",
    "        *ALL_IPYNB,\n",
    "        *ALL_DOCS_TEMPLATES,\n",
    "        DOCS_SCHEMA,\n",
    "        DOCS_GRAPH,\n",
    "        PPT,\n",
    "        README,\n",
    "        LICENSE,\n",
    "        CONTRIBUTING,\n",
    "    ]\n",
    "    sphinx_task_dep = []\n",
    "    for svg in ALL_DOCS_SVG:\n",
    "        tmp = BUILD / \"scour\" / svg.name\n",
    "        yield dict(\n",
    "            name=f\"scour:{svg.name}\",\n",
    "            actions=[\n",
    "                (doit.tools.create_folder, [tmp.parent]),\n",
    "                [*SCOUR_ARGS, svg, tmp],\n",
    "                (A.copy, [svg, tmp]),\n",
    "                (A.clean, [tmp]),\n",
    "            ],\n",
    "            file_dep=[svg],\n",
    "        )\n",
    "\n",
    "    if shutil.which(\"convert\") and shutil.which(\"inkscape\"):\n",
    "        yield dict(\n",
    "            name=\"favicon\",\n",
    "            doc=\"rebuild favicons from svg source, requires imagemagick\",\n",
    "            file_dep=[DOCS_ICON],\n",
    "            targets=[DOCS_FAVICON],\n",
    "            actions=[\n",
    "                A.run(\n",
    "                    [\n",
    "                        \"convert\",\n",
    "                        \"-verbose\",\n",
    "                        \"-density\",\n",
    "                        \"256x256\",\n",
    "                        \"-background\",\n",
    "                        \"transparent\",\n",
    "                        DOCS_ICON,\n",
    "                        \"-define\",\n",
    "                        \"icon:auto-resize\",\n",
    "                        \"-colors\",\n",
    "                        \"256\",\n",
    "                        DOCS_FAVICON,\n",
    "                    ],\n",
    "                    {\"cwd\": ROOT},\n",
    "                )\n",
    "            ],\n",
    "        )\n",
    "\n",
    "    if WORK_DIST.exists():\n",
    "        sphinx_task_dep += [\"self:docs:deploy:work\", \"self:docs:deploy:favicon\"]\n",
    "        yield dict(\n",
    "            name=\"deploy:work\",\n",
    "            doc=\"> copy built assets to docs static\",\n",
    "            actions=[(A.copy, [WORK_DIST, DOCS_STATIC_WORK])],\n",
    "        )\n",
    "        yield dict(\n",
    "            name=\"deploy:favicon\",\n",
    "            doc=\"> copy docs favicon to lite\",\n",
    "            task_dep=[\"self:docs:deploy:work\"],\n",
    "            actions=[(A.copy, [DOCS_FAVICON, DOCS_STATIC_WORK_FAVICON])],\n",
    "            file_dep=[DOCS_FAVICON],\n",
    "            targets=[DOCS_STATIC_WORK_FAVICON],\n",
    "        )\n",
    "\n",
    "    yield dict(\n",
    "        name=\"form\",\n",
    "        doc=\"> build a form for the config\",\n",
    "        actions=[(F.write_form, [DOCS_FORM])],\n",
    "        file_dep=[*ALL_IPYNB, DOCS_SCHEMA],\n",
    "        targets=[DOCS_FORM],\n",
    "    )\n",
    "\n",
    "    yield dict(\n",
    "        name=\"graph\",\n",
    "        doc=\"> build a graph of the tasks\",\n",
    "        actions=[(G.write_graph, [DOCS_GRAPH])],\n",
    "        file_dep=[*ALL_IPYNB],\n",
    "        targets=[DOCS_GRAPH],\n",
    "    )\n",
    "\n",
    "    yield dict(\n",
    "        name=\"sphinx\",\n",
    "        doc=\"> build documentation with sphinx\",\n",
    "        actions=[[\"sphinx-build\", \"-b\", \"html\", \"docs\", \"build/docs\"]],\n",
    "        file_dep=sphinx_deps,\n",
    "        task_dep=sphinx_task_dep,\n",
    "        targets=[DOCS_BUILDINFO],\n",
    "    )"
   ]
  },
  {
   "cell_type": "markdown",
   "id": "e3c267bc-b199-4aaa-b2b0-fc64f904541d",
   "metadata": {},
   "source": [
    "## constants"
   ]
  },
  {
   "cell_type": "code",
   "execution_count": null,
   "id": "f1ca69c2-37e3-44d7-b270-d0bbca78ad95",
   "metadata": {},
   "outputs": [],
   "source": [
    "ALT_FORMATS = [\"toml\", \"yaml\"]"
   ]
  },
  {
   "cell_type": "markdown",
   "id": "bb529889-3724-494a-b8d5-c12933c6c620",
   "metadata": {},
   "source": [
    "## env vars"
   ]
  },
  {
   "cell_type": "code",
   "execution_count": null,
   "id": "83408afc-ffde-419a-8626-af9cf2e0bef3",
   "metadata": {},
   "outputs": [],
   "source": [
    "CONDA_EXE = os.environ.get(\"CONDA_EXE\", \"conda\")\n",
    "SKIP_CONDA_LOCK = bool(json.loads(os.environ.get(\"JPYK_SKIP_CONDA_LOCK\", \"1\")))\n",
    "CI = bool(json.loads(os.environ.get(\"CI\", \"0\")))"
   ]
  },
  {
   "cell_type": "markdown",
   "id": "b2fe8aca-613f-4a3c-9837-55dc5c94349e",
   "metadata": {},
   "source": [
    "## commands"
   ]
  },
  {
   "cell_type": "code",
   "execution_count": null,
   "id": "48e93ce7-9fd4-4472-a349-28076ef14518",
   "metadata": {},
   "outputs": [],
   "source": [
    "SCOUR_ARGS = [\"scour\", \"--enable-id-stripping\", \"--enable-comment-stripping\"]\n",
    "YARN = [\"yarn\"]\n",
    "PRETTIER = [*YARN, \"prettier\"]\n",
    "PRETTIER_ARGS = [\n",
    "    \"--cache\",\n",
    "    \"--cache-location\",\n",
    "    \"build/.cache/prettier\",\n",
    "    \"--list-different\",\n",
    "    \"--write\",\n",
    "]"
   ]
  },
  {
   "cell_type": "markdown",
   "id": "2fb039ff-246e-4e98-bd84-fe863bedb601",
   "metadata": {},
   "source": [
    "## "
   ]
  },
  {
   "cell_type": "markdown",
   "id": "9add413f-29cf-4f2c-97ea-b0c9d49b5d7f",
   "metadata": {},
   "source": [
    "## paths"
   ]
  },
  {
   "cell_type": "code",
   "execution_count": null,
   "id": "aa8b2e23-b1e3-4651-b372-d9bbecd3303e",
   "metadata": {},
   "outputs": [],
   "source": [
    "SRC = Path(jupyak.__file__).parent\n",
    "TASKS = SRC / \"tasks\""
   ]
  },
  {
   "cell_type": "code",
   "execution_count": null,
   "id": "0949c5e3-1bf0-4360-93f3-02781ddd62af",
   "metadata": {},
   "outputs": [],
   "source": [
    "PPT = (\n",
    "    Path(W.PYPROJECT_TOML)\n",
    "    if Path(W.PYPROJECT_TOML).exists()\n",
    "    else SRC.parent.parent / W.PYPROJECT_TOML\n",
    ")"
   ]
  },
  {
   "cell_type": "code",
   "execution_count": null,
   "id": "e5659817-c8a3-412a-a626-03fb9a059a39",
   "metadata": {},
   "outputs": [],
   "source": [
    "ROOT = PPT.parent.resolve()\n",
    "TESTS = ROOT / \"tests\"\n",
    "GH = ROOT / \".github\""
   ]
  },
  {
   "cell_type": "code",
   "execution_count": null,
   "id": "13d97782-cde3-44e0-84b2-dd90488ac441",
   "metadata": {},
   "outputs": [],
   "source": [
    "ALL_TEST_PY = sorted(p for p in TESTS.rglob(\"*.py\") if not re.search(W.IPYNBC, str(p)))\n",
    "ALL_SRC_PY = sorted(p for p in SRC.rglob(\"*.py\") if not re.search(W.IPYNBC, str(p)))"
   ]
  },
  {
   "cell_type": "markdown",
   "id": "1bb36ed7-21f9-45ba-a963-473828e13dee",
   "metadata": {},
   "source": [
    "## project data"
   ]
  },
  {
   "cell_type": "code",
   "execution_count": null,
   "id": "3ecb3094-c7ce-4a65-af8c-d5012eef3800",
   "metadata": {},
   "outputs": [],
   "source": [
    "PPT_DATA = tomllib.loads(PPT.read_text(encoding=\"utf-8\"))\n",
    "PJ = PPT_DATA[\"project\"]"
   ]
  },
  {
   "cell_type": "markdown",
   "id": "7f8c5283-9c98-42a1-9f96-50a5c183957c",
   "metadata": {},
   "source": [
    "## top-level"
   ]
  },
  {
   "cell_type": "code",
   "execution_count": null,
   "id": "28ae8295-1724-4437-bb85-3ac1d28000e6",
   "metadata": {},
   "outputs": [],
   "source": [
    "BUILD = ROOT / \"build\"\n",
    "DIST = ROOT / \"dist\"\n",
    "README = ROOT / \"README.md\"\n",
    "LICENSE = ROOT / \"LICENSE\"\n",
    "CONTRIBUTING = ROOT / \"CONTRIBUTING.md\""
   ]
  },
  {
   "cell_type": "markdown",
   "id": "1881e642-6c01-4f39-a280-eddd1f179a91",
   "metadata": {},
   "source": [
    "## binder"
   ]
  },
  {
   "cell_type": "code",
   "execution_count": null,
   "id": "cc419b39-f123-4313-bb02-ab14bb8b209b",
   "metadata": {},
   "outputs": [],
   "source": [
    "BINDER = ROOT / \".binder\"\n",
    "BINDER_ENV = BINDER / W.ENVIRONMENT_YML\n",
    "BINDER_LOCK = BINDER / \"conda-linux-64.lock\""
   ]
  },
  {
   "cell_type": "markdown",
   "id": "fed0231c-ec71-4551-96eb-42ed491cec1c",
   "metadata": {},
   "source": [
    "## tests"
   ]
  },
  {
   "cell_type": "code",
   "execution_count": null,
   "id": "23b71032-b4a7-4d25-b142-8046a41990d9",
   "metadata": {},
   "outputs": [],
   "source": [
    "REPORTS = BUILD / \"reports\"\n",
    "REPORT_PYTEST = REPORTS / \"pytest.html\"\n",
    "REPORT_HTMLCOV = REPORTS / \"htmlcov/index.html\""
   ]
  },
  {
   "cell_type": "markdown",
   "id": "afa41e89-b878-46c0-8e1d-01bf9826e7db",
   "metadata": {},
   "source": [
    "## docs"
   ]
  },
  {
   "cell_type": "code",
   "execution_count": null,
   "id": "b9db55d2-422f-475a-bad4-2bbb752b5b09",
   "metadata": {},
   "outputs": [],
   "source": [
    "DOCS = ROOT / \"docs\"\n",
    "DOCS_ENV = DOCS / W.ENVIRONMENT_YML\n",
    "DOCS_STATIC = DOCS / \"_static\"\n",
    "DOCS_IMG = DOCS_STATIC / \"img\"\n",
    "DOCS_BUILD = BUILD / \"docs\"\n",
    "DOCS_BUILDINFO = DOCS_BUILD / \".buildinfo\"\n",
    "DOCS_FORM = DOCS / \"new.md\"\n",
    "DOCS_ICON = DOCS_IMG / \"logo.svg\"\n",
    "DOCS_SCHEMA = DOCS_STATIC / \"jupyak-v0.schema.json\"\n",
    "DOCS_FAVICON = DOCS_IMG / \"favicon.ico\"\n",
    "DOCS_GRAPH = DOCS / \"graph.md\"\n",
    "DOCS_TEMPLATES = DOCS / \"_templates\"\n",
    "DOCS_CSS = DOCS_STATIC / \"css\"\n",
    "DOCS_STATIC_WORK = DOCS_STATIC / \"work\"\n",
    "DOCS_STATIC_WORK_FAVICON = DOCS_STATIC_WORK / \"lite/lab\" / DOCS_FAVICON.name\n",
    "ALL_DOCS_STATIC = [\n",
    "    p\n",
    "    for p in [*DOCS_CSS.rglob(\"*.*\"), *DOCS_IMG.rglob(\"*.*\")]\n",
    "    if \"ipynb_checkpoints\" not in str(p)\n",
    "]\n",
    "ALL_DOCS_PY = sorted(DOCS.rglob(\"*.py\"))\n",
    "ALL_DOCS_SVG = sorted(DOCS_IMG.glob(\"*.svg\"))\n",
    "ALL_DOCS_MD = [DOCS_GRAPH, *sorted(DOCS.rglob(\"*.md\"))]\n",
    "ALL_DOCS_TEMPLATES = [*DOCS_TEMPLATES.glob(\"*.html\")]"
   ]
  },
  {
   "cell_type": "markdown",
   "id": "20f39da9-822e-430f-b5a4-47bed6b68a1d",
   "metadata": {},
   "source": [
    "# js"
   ]
  },
  {
   "cell_type": "code",
   "execution_count": null,
   "id": "e03a53ea-44f5-4269-b36e-4871425ab06b",
   "metadata": {},
   "outputs": [],
   "source": [
    "JS = ROOT / \"js\"\n",
    "JS_LOCK = ROOT / W.YARN_LOCK\n",
    "JS_PACKAGE_ROOT = ROOT / W.PACKAGE_JSON\n",
    "JS_PACKAGE = JS / W.PACKAGE_JSON\n",
    "JS_STATE = ROOT / W.YARN_STATE\n",
    "JS_RC = ROOT / W.YARNRC\n",
    "JS_SRC = JS / \"src\"\n",
    "JS_DIST = JS / \"dist/prjsf\"\n",
    "JS_DIST_JS = JS_DIST / \"prjsf.js\"\n",
    "JS_TSBUILD = JS / W.TSCONFIG_BUILDINFO\n",
    "JS_WEBPACK_JS = JS / W.WEBPACK_CONFIG\n",
    "JS_DEMO = JS / \"demo\"\n",
    "ALL_DEMO_JSON = [*JS_DEMO.glob(\"*.json\")]"
   ]
  },
  {
   "cell_type": "markdown",
   "id": "5cd3eb89-0a54-40d0-be0e-7faa471ceddd",
   "metadata": {},
   "source": [
    "### js data"
   ]
  },
  {
   "cell_type": "code",
   "execution_count": null,
   "id": "9da4dd9d-4b6e-47d7-b5fa-95ec84be717b",
   "metadata": {},
   "outputs": [],
   "source": [
    "JS_PACKAGE_ROOT_DATA = json.loads(JS_PACKAGE_ROOT.read_text(encoding=\"utf-8\"))\n",
    "JS_PACKAGE_DATA = json.loads(JS_PACKAGE.read_text(encoding=\"utf-8\"))"
   ]
  },
  {
   "cell_type": "markdown",
   "id": "c5c235f9-b37f-44f7-999f-1a2d4ec70cde",
   "metadata": {},
   "source": [
    "## work"
   ]
  },
  {
   "cell_type": "code",
   "execution_count": null,
   "id": "378fc936-e824-42fc-8e9b-fd797c043be5",
   "metadata": {},
   "outputs": [],
   "source": [
    "WORK_PATH = Path(os.environ.get(W.ENV_VAR_WORK_DIR) or ROOT / \"work\")\n",
    "WORK_DIST = WORK_PATH / \"dist\"\n",
    "WORK_DIST_LITE_SHASUMS = WORK_DIST / \"lite\" / W.SHA256SUMS"
   ]
  },
  {
   "cell_type": "markdown",
   "id": "ef778b02-2939-429c-908a-c51b57ad72f5",
   "metadata": {},
   "source": [
    "## validating"
   ]
  },
  {
   "cell_type": "code",
   "execution_count": null,
   "id": "ecb5c9d2-1e3b-40f6-aab0-2eaf743295aa",
   "metadata": {},
   "outputs": [],
   "source": [
    "EXAMPLES = ROOT / \"examples\"\n",
    "EXAMPLE_INSTANCES = [*EXAMPLES.rglob(\"jupyak_config.*\")]\n",
    "LOCAL_YAK_CONFIG = [*ROOT.glob(\"jupyak_config.*\")]\n",
    "ALL_SCHEMA_INSTANCES = [*EXAMPLE_INSTANCES, *LOCAL_YAK_CONFIG]"
   ]
  },
  {
   "cell_type": "markdown",
   "id": "2a151051-3377-4a10-ae43-79fe86e0948f",
   "metadata": {},
   "source": [
    "## linting"
   ]
  },
  {
   "cell_type": "code",
   "execution_count": null,
   "id": "cfc41cca-0035-4167-9d26-86f4a694ea93",
   "metadata": {},
   "outputs": [],
   "source": [
    "ALL_JS = [*JS.glob(\"*.js\")]\n",
    "ALL_TS = [*JS_SRC.rglob(\"*.ts\"), *JS_SRC.rglob(\"*.tsx\")]\n",
    "ALL_IPYNB = sorted([*TASKS.glob(\"*.ipynb\"), *DOCS.glob(\"*.ipynb\")])\n",
    "ALL_PY = sorted([*ROOT.glob(\"*.py\"), *ALL_SRC_PY, *ALL_DOCS_PY, *ALL_TEST_PY])\n",
    "ALL_MD = [README]\n",
    "ALL_JSON = [*ALL_DEMO_JSON, JS_PACKAGE, JS_PACKAGE_ROOT, DOCS_SCHEMA, *ALL_DEMO_JSON]\n",
    "ALL_YAML = [\n",
    "    *GH.rglob(\"*.yml\"),\n",
    "    *ROOT.glob(\"*.yml\"),\n",
    "    *DOCS.glob(\"*.yml\"),\n",
    "    *DOCS.glob(\"*.yaml\"),\n",
    "    *DOCS_STATIC.glob(\"*.yaml\"),\n",
    "    *JS_DEMO.glob(\"*.yaml\"),\n",
    "]\n",
    "ALL_TOML = [PPT, *DOCS_STATIC.glob(\"*.toml\"), *JS_DEMO.glob(\"*.toml\")]\n",
    "ALL_CSS = [*DOCS_CSS.glob(\"*.css\")]\n",
    "ALL_PRETTIER = [*ALL_TS, *ALL_MD, *ALL_YAML, *ALL_CSS, *ALL_JS, *ALL_JSON, *ALL_TOML]"
   ]
  },
  {
   "cell_type": "markdown",
   "id": "ca70d41a-75ea-4992-a69e-e2cd1e521811",
   "metadata": {},
   "source": [
    "## distributions"
   ]
  },
  {
   "cell_type": "code",
   "execution_count": null,
   "id": "8c3f2ac8-50aa-4fb4-83a5-adbc5cd5d3c1",
   "metadata": {},
   "outputs": [],
   "source": [
    "WHEEL = DIST / f\"\"\"{PJ[\"name\"]}-{PJ[\"version\"]}{W.NOARCH_WHL}\"\"\"\n",
    "SDIST = DIST / f\"\"\"{PJ[\"name\"]}-{PJ[\"version\"]}{W.SDIST_EXT}\"\"\"\n",
    "SHA256SUMS = DIST / W.SHA256SUMS"
   ]
  }
 ],
 "metadata": {
  "kernelspec": {
   "display_name": "Python 3 (ipykernel)",
   "language": "python",
   "name": "python3"
  },
  "language_info": {
   "codemirror_mode": {
    "name": "ipython",
    "version": 3
   },
   "file_extension": ".py",
   "mimetype": "text/x-python",
   "name": "python",
   "nbconvert_exporter": "python",
   "pygments_lexer": "ipython3",
   "version": "3.11.6"
  }
 },
 "nbformat": 4,
 "nbformat_minor": 5
}
