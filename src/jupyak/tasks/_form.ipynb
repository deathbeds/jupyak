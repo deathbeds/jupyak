{
 "cells": [
  {
   "cell_type": "markdown",
   "id": "ab2ac71e-feb4-4264-9ee1-067476c2d268",
   "metadata": {},
   "source": [
    "# form\n",
    "\n",
    "> this builds up an `.md` with a lot of nastiness to get to an HTML form to propose a new config file"
   ]
  },
  {
   "cell_type": "code",
   "execution_count": null,
   "id": "ab905463-34e2-452a-bb89-33d0760adcd5",
   "metadata": {},
   "outputs": [],
   "source": [
    "import re\n",
    "from pathlib import Path\n",
    "\n",
    "import importnb\n",
    "import IPython\n",
    "import jinja2"
   ]
  },
  {
   "cell_type": "code",
   "execution_count": null,
   "id": "9d0b77f5-9f98-4c61-835e-94a4664e82fa",
   "metadata": {},
   "outputs": [],
   "source": [
    "URL = \"https://github.com/deathbeds/jupyak/new/main\""
   ]
  },
  {
   "cell_type": "code",
   "execution_count": null,
   "id": "22fabc86-2a1d-44d8-b49d-46c653521bc1",
   "metadata": {},
   "outputs": [],
   "source": [
    "with importnb.Notebook():\n",
    "    from jupyak.tasks import load_tasks\n",
    "    from jupyak.tasks._yak import Yak"
   ]
  },
  {
   "cell_type": "code",
   "execution_count": null,
   "id": "ad752a5e-4e9b-4254-8a9f-209f40a3fd60",
   "metadata": {},
   "outputs": [],
   "source": [
    "def load_yak():\n",
    "    load_tasks()\n",
    "    return Yak({\"repos\": {}})"
   ]
  },
  {
   "cell_type": "code",
   "execution_count": null,
   "id": "38188d04-18b6-4769-86e6-940814116f71",
   "metadata": {},
   "outputs": [],
   "source": [
    "REPOS_TMPL = r\"\"\"\n",
    "<fieldset>\n",
    "<legend><h2>customize GitHub checkout</h2></legend>\n",
    "\n",
    "<blockquote>\n",
    "All of the repositories below will be checked out at the current <code>main</code> branch as a <em>baseline</em>.\n",
    "Check one or more repos to provide use a differnt branch, PR, or tag, or provide one or more PRs to\n",
    "<i>merge with</i> it, and/or customize the <a href=\"https://git-scm.com/docs/merge-strategies\" target=\"blank\">merge strategy and options</a> to work around merge conflicts.\n",
    "</blockquote>\n",
    "\n",
    "{% for name in yak.repos %}\n",
    "    <input type=\"checkbox\" name=\"show-repo-{{ name }}\" id=\"show-repo-{{ name }}\"/>\n",
    "    <label class=\"show-repo-label\" for=\"show-repo-{{ name }}\">{{name}}</label>\n",
    "{% endfor %}\n",
    "<table style=\"position: relative;\">\n",
    "    <thead style=\"position: sticky; top: 0;\">\n",
    "        <tr>\n",
    "            <th>repo</th>\n",
    "            <th>baseline</th>\n",
    "            <th>merge with</th>\n",
    "            <th>merge strategy</th>\n",
    "            <th>merge options</th>\n",
    "        </tr>\n",
    "        <tr>\n",
    "            <td><blockquote>\n",
    "                GitHub repository to check out and build\n",
    "            </blockquote></td>\n",
    "            <td><blockquote>\n",
    "                starting point GitHub reference\n",
    "            </blockquote></td>\n",
    "            <td><blockquote>\n",
    "                optional space-delimted list of references to merge into the baseline\n",
    "            </blockquote></td>\n",
    "            <td><blockquote>\n",
    "                merge strategy\n",
    "            </blockquote></td>\n",
    "            <td><blockquote>\n",
    "                additional space-delimeted <code>-X</code> options to pass to <code>git merge</code>\n",
    "            </blockquote></td>\n",
    "        </tr>\n",
    "    </thead>\n",
    "    <tbody>\n",
    "        {% for name, repo in yak.repos.items() %}\n",
    "        {% set stem = \"repos|\" ~ name ~ \"|github\" %}\n",
    "        {% set id_stem = \"repos-\" ~ name ~ \"-github\" %}\n",
    "        {% set gh = repo.github %}\n",
    "        {% set gh_pattern = \"(tree/[^s]+|pull/\\d+|releases/tag/[^s]+)\" %}\n",
    "        <tr class=\"repo\" id=\"repo-{{ name }}\">\n",
    "            <th><code>{{ gh.url }}/</code></th>\n",
    "            <td>\n",
    "                <input id=\"{{ id_stem }}-baseline\"\n",
    "                    name=\"{{ stem }}|baseline\"\n",
    "                    type=\"text\"\n",
    "                    title=\"the baseline GitHub URL for {{ name }}\"\n",
    "                    spellcheck=\"false\"\n",
    "                    placeholder=\"{{ gh.baseline }}\"\n",
    "                    pattern=\"^$|^{{ gh_pattern }}\"\n",
    "                />\n",
    "                <label for=\"{{ id_stem }}-baseline\">\n",
    "                    must be empty, or one of:<br/>\n",
    "                    <code>pull/{:number}</code><br/>\n",
    "                    <code>tree/{:branch}</code><br/>\n",
    "                    <code>releases/tag/{:tag}</code>\n",
    "                </label>\n",
    "            </td>\n",
    "            <td>\n",
    "                <input id=\"{{ id_stem }}-merge_with\"\n",
    "                    name=\"{{ stem }}|merge_with\"\n",
    "                    title=\"one or more space-delimited GitHub URLs to merge into the {{ name }} baseline\"\n",
    "                    type=\"text\"\n",
    "                    spellcheck=\"false\"\n",
    "                    placeholder=\"pull/{:number} tree/{:branch} releases/tag/{:tag}\"\n",
    "                    pattern=\"^$|^{{ gh_pattern }}(\\s+{{ gh_pattern}})*\"\n",
    "                />\n",
    "                <label for=\"{{ id_stem }}-merge_with\">\n",
    "                    must be empty, or one or more (separated by space) of:<br/>\n",
    "                    <code>pull/{:number}</code><br/>\n",
    "                    <code>tree/{:branch}</code><br/>\n",
    "                    <code>releases/tag/{:tag}</code>\n",
    "                </label>\n",
    "            </td>\n",
    "            <td>\n",
    "                <select\n",
    "                    name=\"{{ stem }}|merge_strategy\"\n",
    "                    title=\"choose a different git merge strategy\"\n",
    "                >\n",
    "                    <option value=\"\">ort (default)</option>\n",
    "                    <option>resolve</option>\n",
    "                    <option>octopus</option>\n",
    "                    <option>ours</option>\n",
    "                    <option>subtree</option>\n",
    "                </select>\n",
    "            </td>\n",
    "            <td>\n",
    "                <input\n",
    "                    name=\"{{ stem }}|merge_options\"\n",
    "                    type=\"text\"\n",
    "                    title=\"add space-delimted -X options for the merge strategy\"\n",
    "                />\n",
    "            </td>\n",
    "        </tr>\n",
    "        {% endfor %}\n",
    "    </tbody>\n",
    "</table>\n",
    "\"\"\""
   ]
  },
  {
   "cell_type": "code",
   "execution_count": null,
   "id": "895ceb9c-89e1-420b-b98a-470f12c6c23b",
   "metadata": {},
   "outputs": [],
   "source": [
    "def make_repos_form(yak: Yak):\n",
    "    return [jinja2.Template(REPOS_TMPL).render(yak=yak)]"
   ]
  },
  {
   "cell_type": "code",
   "execution_count": null,
   "id": "eaaeb682-52b5-4136-ad51-990d0398fd74",
   "metadata": {},
   "outputs": [],
   "source": [
    "REPO_STYLE_TEMPL = \"\"\"\n",
    "{% for name in yak.repos %}\n",
    "#show-repo-{{ name }}:not(:checked) ~ table tbody #repo-{{ name }} {\n",
    "    display: none;\n",
    "}\n",
    "{% endfor %}\n",
    "\"\"\""
   ]
  },
  {
   "cell_type": "code",
   "execution_count": null,
   "id": "43bf62e4-30bf-40d4-a0bb-3459fab2155a",
   "metadata": {},
   "outputs": [],
   "source": [
    "def make_repos_style(yak: Yak):\n",
    "    return [jinja2.Template(REPO_STYLE_TEMPL).render(yak=yak)]"
   ]
  },
  {
   "cell_type": "code",
   "execution_count": null,
   "id": "80c59837-bc25-4571-9c28-bcb61dac930e",
   "metadata": {},
   "outputs": [],
   "source": [
    "LITE_TMPL = r\"\"\"\n",
    "<fieldset>\n",
    "<legend>customize JupyterLite</legend>\n",
    "\n",
    "<blockquote>\n",
    "If given, an optional <a target=\"_blank\" href=\"https://gist.github.com/\">gist</a> will be cloned\n",
    "to provide the content of the JupyterLite site.\n",
    "If the gist contains <code>jupyter_lite_config.json</code> and/or <code>jupyter-lite.json</code>,\n",
    "this will be merged into the generated\n",
    "<a target=\"_blank\" href=\"https://jupyterlite.readthedocs.io/en/latest/howto/configure/config_files.html\">configuration</a>\n",
    "of <code>jupyter lite build</code> and the runtime application.\n",
    "</blockquote>\n",
    "\n",
    "<input id=\"lite-gist\"\n",
    "     type=\"text\"\n",
    "     name=\"lite|gist\"\n",
    "     pattern=\"^$|^[a-z\\d]{20,}$\"\n",
    "     placeholder=\"gist ID\"\n",
    "     />\n",
    "<label for=\"lite-gist\">the gist ID must be empty, or contain 20+ letters and numbers</label>\n",
    "</fieldset>\n",
    "\"\"\""
   ]
  },
  {
   "cell_type": "code",
   "execution_count": null,
   "id": "4b128fc0-36ad-463d-a1ff-8bfe0e3a4ffe",
   "metadata": {},
   "outputs": [],
   "source": [
    "def make_lite_form(yak: Yak):\n",
    "    return [jinja2.Template(LITE_TMPL).render(yak=yak)]"
   ]
  },
  {
   "cell_type": "code",
   "execution_count": null,
   "id": "78413a7e-6db6-49d2-9b00-59028d7b86a1",
   "metadata": {},
   "outputs": [],
   "source": [
    "def make_form():\n",
    "    yak = load_yak()\n",
    "    chunks = []\n",
    "    style_chunks = []\n",
    "    script_chunks = []\n",
    "    for trait_name in [\"repos\", \"lite\"]:\n",
    "        value = yak.trait_values()[trait_name]\n",
    "        maker = globals().get(f\"make_{trait_name}_form\")\n",
    "        if maker:\n",
    "            chunks += maker(yak)\n",
    "        styler = globals().get(f\"make_{trait_name}_style\")\n",
    "        if styler:\n",
    "            style_chunks += styler(yak)\n",
    "\n",
    "    return [\n",
    "        \"<style>\",\n",
    "        *style_chunks,\n",
    "        \"</style>\",\n",
    "        \"\"\"<form id=\"new\">\"\"\",\n",
    "        *chunks,\n",
    "        \"</form>\",\n",
    "        *script_chunks,\n",
    "    ]"
   ]
  },
  {
   "cell_type": "code",
   "execution_count": null,
   "id": "09af8cb7-ced6-4d2a-b170-42c374d75a0d",
   "metadata": {},
   "outputs": [],
   "source": [
    "def write_form(dest: Path, **options):\n",
    "    dest.parent.mkdir(parents=True, exist_ok=True)\n",
    "    final_tmpl = dest.parent / \"_templates/new-form.html\"\n",
    "    chunks = [\n",
    "        \"# request a preview site\",\n",
    "        \"\",\n",
    "        \"> Make selections below for the most common configuration options, then use the \",\n",
    "        \"> _start pull request_ form to be redirected to GitHub.\",\n",
    "        \"> A large number of other configuration options are _possible_, but are not yet fully described.\",\n",
    "        \"\",\n",
    "        *make_form(),\n",
    "        final_tmpl.read_text(encoding=\"utf-8\"),\n",
    "    ]\n",
    "    txt = re.sub(r\"^ +\", \"\", \"\\n\".join(chunks), flags=re.M)\n",
    "    dest.write_text(txt, encoding=\"utf-8\")"
   ]
  },
  {
   "cell_type": "code",
   "execution_count": null,
   "id": "7ac0c6c3-a69b-4e5e-bf55-1dcc2449f283",
   "metadata": {},
   "outputs": [],
   "source": [
    "if __name__ == \"__main__\":\n",
    "    IPython.display.display(IPython.display.HTML(\"\\n\".join(make_form())))"
   ]
  }
 ],
 "metadata": {
  "kernelspec": {
   "display_name": "Python 3 (ipykernel)",
   "language": "python",
   "name": "python3"
  },
  "language_info": {
   "codemirror_mode": {
    "name": "ipython",
    "version": 3
   },
   "file_extension": ".py",
   "mimetype": "text/x-python",
   "name": "python",
   "nbconvert_exporter": "python",
   "pygments_lexer": "ipython3",
   "version": "3.11.6"
  }
 },
 "nbformat": 4,
 "nbformat_minor": 5
}
