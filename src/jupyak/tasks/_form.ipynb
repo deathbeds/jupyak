{
 "cells": [
  {
   "cell_type": "markdown",
   "id": "ab2ac71e-feb4-4264-9ee1-067476c2d268",
   "metadata": {},
   "source": [
    "# form\n",
    "\n",
    "> this builds up an `.md` with a lot of nastiness to get to an HTML form to propose a new config file"
   ]
  },
  {
   "cell_type": "code",
   "execution_count": null,
   "id": "ab905463-34e2-452a-bb89-33d0760adcd5",
   "metadata": {},
   "outputs": [],
   "source": [
    "import re\n",
    "from pathlib import Path\n",
    "\n",
    "import importnb\n",
    "import jinja2"
   ]
  },
  {
   "cell_type": "code",
   "execution_count": null,
   "id": "9d0b77f5-9f98-4c61-835e-94a4664e82fa",
   "metadata": {},
   "outputs": [],
   "source": [
    "URL = \"https://github.com/deathbeds/jupyak/new/main\""
   ]
  },
  {
   "cell_type": "code",
   "execution_count": null,
   "id": "22fabc86-2a1d-44d8-b49d-46c653521bc1",
   "metadata": {},
   "outputs": [],
   "source": [
    "with importnb.Notebook():\n",
    "    from jupyak.tasks import load_tasks\n",
    "    from jupyak.tasks._yak import Repo, Yak"
   ]
  },
  {
   "cell_type": "code",
   "execution_count": null,
   "id": "ad752a5e-4e9b-4254-8a9f-209f40a3fd60",
   "metadata": {},
   "outputs": [],
   "source": [
    "def load_yak():\n",
    "    load_tasks()\n",
    "    return Yak({\"pr\": {}})"
   ]
  },
  {
   "cell_type": "code",
   "execution_count": null,
   "id": "adbc58fe-c2a6-4ef7-859a-a88546a60d15",
   "metadata": {},
   "outputs": [],
   "source": [
    "def make_repo(repo: Repo):\n",
    "    return []"
   ]
  },
  {
   "cell_type": "code",
   "execution_count": null,
   "id": "38188d04-18b6-4769-86e6-940814116f71",
   "metadata": {},
   "outputs": [],
   "source": [
    "REPOS_TMPL = r\"\"\"\n",
    "<h2>repos</h2>\n",
    "{% for name in yak.repos %}\n",
    "    <input type=\"checkbox\" name=\"show-repo-{{ name }}\" id=\"show-repo-{{ name }}\"/>\n",
    "    <label class=\"show-repo-label\" for=\"show-repo-{{ name }}\">{{name}}</label>\n",
    "{% endfor %}\n",
    "<table style=\"position: relative;\">\n",
    "    <thead style=\"position: sticky; top: 0;\">\n",
    "        <tr>\n",
    "            <th>repo</th>\n",
    "            <th>baseline</th>\n",
    "            <th>merge with</th>\n",
    "            <th>merge strategy</th>\n",
    "            <th>merge options</th>\n",
    "        </tr>\n",
    "        <tr>\n",
    "            <td><blockquote>\n",
    "                GitHub repository to check out and build\n",
    "            </blockquote></td>\n",
    "            <td><blockquote>\n",
    "                starting point GitHub reference\n",
    "            </blockquote></td>\n",
    "            <td><blockquote>\n",
    "                optional space-delimted list of references to merge into the baseline\n",
    "            </blockquote></td>\n",
    "            <td><blockquote>\n",
    "                merge strategy\n",
    "            </blockquote></td>\n",
    "            <td><blockquote>\n",
    "                additional space-delimeted <code>-X</code> options to pass to <code>git merge</code>\n",
    "            </blockquote></td>\n",
    "        </tr>\n",
    "    </thead>\n",
    "    <tbody>\n",
    "        {% for name, repo in yak.repos.items() %}\n",
    "        {% set stem = \"repos|\" ~ name ~ \"|github\" %}\n",
    "        {% set id_stem = \"repos-\" ~ name ~ \"-github\" %}\n",
    "        {% set gh = repo.github %}\n",
    "        {% set gh_pattern = \"(tree/[^s]+|pull/\\d+|releases/tag/[^s]+)\" %}\n",
    "        <tr class=\"repo\" id=\"repo-{{ name }}\">\n",
    "            <th><code>{{ gh.url }}/</code></th>\n",
    "            <td>\n",
    "                <input id=\"{{ id_stem }}-baseline\"\n",
    "                    name=\"{{ stem }}|baseline\"\n",
    "                    type=\"text\"\n",
    "                    title=\"the baseline GitHub URL for {{ name }}\"\n",
    "                    spellcheck=\"false\"\n",
    "                    placeholder=\"{{ gh.baseline }}\"\n",
    "                    pattern=\"^$|^{{ gh_pattern }}\"\n",
    "                />\n",
    "                <label for=\"{{ id_stem }}-baseline\">\n",
    "                    must be empty, or one of:<br/>\n",
    "                    <code>pull/{:number}</code><br/>\n",
    "                    <code>tree/{:branch}</code><br/>\n",
    "                    <code>releases/tag/{:tag}</code>\n",
    "                </label>\n",
    "            </td>\n",
    "            <td>\n",
    "                <input id=\"{{ id_stem }}-merge_with\"\n",
    "                    name=\"{{ stem }}|merge_with\"\n",
    "                    title=\"one or more space-delimited GitHub URLs to merge into the {{ name }} baseline\"\n",
    "                    type=\"text\"\n",
    "                    spellcheck=\"false\"\n",
    "                    placeholder=\"pull/{:number} tree/{:branch} releases/tag/{:tag}\"\n",
    "                    pattern=\"^$|^{{ gh_pattern }}(\\s+{{ gh_pattern}})*\"\n",
    "                />\n",
    "                <label for=\"{{ id_stem }}-merge_with\">\n",
    "                    must be empty, or one or more (separated by space) of:<br/>\n",
    "                    <code>pull/{:number}</code><br/>\n",
    "                    <code>tree/{:branch}</code><br/>\n",
    "                    <code>releases/tag/{:tag}</code>\n",
    "                </label>\n",
    "            </td>\n",
    "            <td>\n",
    "                <select\n",
    "                    name=\"{{ stem }}|merge_strategy\"\n",
    "                    title=\"choose a different git merge strategy\"\n",
    "                >\n",
    "                    <option value=\"\">ort (default)</option>\n",
    "                    <option>resolve</option>\n",
    "                    <option>octopus</option>\n",
    "                    <option>ours</option>\n",
    "                    <option>subtree</option>\n",
    "                </select>\n",
    "            </td>\n",
    "            <td>\n",
    "                <input\n",
    "                    name=\"{{ stem }}|merge_options\"\n",
    "                    type=\"text\"\n",
    "                    title=\"add space-delimted -X options for the merge strategy\"\n",
    "                />\n",
    "            </td>\n",
    "        </tr>\n",
    "        {% endfor %}\n",
    "    </tbody>\n",
    "</table>\n",
    "\"\"\""
   ]
  },
  {
   "cell_type": "code",
   "execution_count": null,
   "id": "895ceb9c-89e1-420b-b98a-470f12c6c23b",
   "metadata": {},
   "outputs": [],
   "source": [
    "def make_repos_form(yak: Yak):\n",
    "    return [jinja2.Template(REPOS_TMPL).render(yak=yak)]"
   ]
  },
  {
   "cell_type": "code",
   "execution_count": null,
   "id": "eaaeb682-52b5-4136-ad51-990d0398fd74",
   "metadata": {},
   "outputs": [],
   "source": [
    "REPO_STYLE_TEMPL = \"\"\"\n",
    "{% for name in yak.repos %}\n",
    "#show-repo-{{ name }}:not(:checked) ~ table tbody #repo-{{ name }} {\n",
    "    display: none;\n",
    "}\n",
    "{% endfor %}\n",
    "\"\"\""
   ]
  },
  {
   "cell_type": "code",
   "execution_count": null,
   "id": "43bf62e4-30bf-40d4-a0bb-3459fab2155a",
   "metadata": {},
   "outputs": [],
   "source": [
    "def make_repos_style(yak: Yak):\n",
    "    return [jinja2.Template(REPO_STYLE_TEMPL).render(yak=yak)]"
   ]
  },
  {
   "cell_type": "code",
   "execution_count": null,
   "id": "78413a7e-6db6-49d2-9b00-59028d7b86a1",
   "metadata": {},
   "outputs": [],
   "source": [
    "def make_form():\n",
    "    yak = load_yak()\n",
    "    chunks = []\n",
    "    style_chunks = []\n",
    "    script_chunks = []\n",
    "    for trait_name, value in yak.trait_values().items():\n",
    "        maker = globals().get(f\"make_{trait_name}_form\")\n",
    "        if maker:\n",
    "            chunks += maker(yak)\n",
    "        styler = globals().get(f\"make_{trait_name}_style\")\n",
    "        if styler:\n",
    "            style_chunks += styler(yak)\n",
    "\n",
    "    return [\n",
    "        \"<style>\",\n",
    "        *style_chunks,\n",
    "        \"</style>\",\n",
    "        \"\"\"<form id=\"new\">\"\"\",\n",
    "        *chunks,\n",
    "        \"</form>\",\n",
    "        *script_chunks,\n",
    "    ]"
   ]
  },
  {
   "cell_type": "code",
   "execution_count": null,
   "id": "09af8cb7-ced6-4d2a-b170-42c374d75a0d",
   "metadata": {},
   "outputs": [],
   "source": [
    "def write_form(dest: Path, **options):\n",
    "    dest.parent.mkdir(parents=True, exist_ok=True)\n",
    "    chunks = [\n",
    "        \"# request a preview site\",\n",
    "        \"\",\n",
    "        \"> make selections below, then use the sidebar to start a new Pull Request\",\n",
    "        \"\",\n",
    "        *make_form(),\n",
    "    ]\n",
    "    txt = re.sub(r\"^ +\", \"\", \"\\n\".join(chunks), flags=re.M)\n",
    "    dest.write_text(txt, encoding=\"utf-8\")"
   ]
  }
 ],
 "metadata": {
  "kernelspec": {
   "display_name": "Python 3 (ipykernel)",
   "language": "python",
   "name": "python3"
  },
  "language_info": {
   "codemirror_mode": {
    "name": "ipython",
    "version": 3
   },
   "file_extension": ".py",
   "mimetype": "text/x-python",
   "name": "python",
   "nbconvert_exporter": "python",
   "pygments_lexer": "ipython3",
   "version": "3.11.6"
  }
 },
 "nbformat": 4,
 "nbformat_minor": 5
}
