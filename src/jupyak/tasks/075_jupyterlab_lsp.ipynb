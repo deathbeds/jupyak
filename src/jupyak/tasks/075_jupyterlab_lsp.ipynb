{
 "cells": [
  {
   "cell_type": "markdown",
   "id": "af75e994-ac77-4cbd-aec9-cc669968d08c",
   "metadata": {},
   "source": [
    "# jupyterlab_lsp\n",
    "\n",
    "[`jupyterlab_lsp`](https://github.com/jupyter-lsp/jupyterlab-lsp) provides the backend `jupyter_lsp` server extension as well as the browser-based extensions.\n",
    "\n",
    "> The labextension doesn't work in JupyterLite, and would first need to demonstrate a working\n",
    "> [language server](https://github.com/jupyterlite/jupyterlite-lsp/issues/1)."
   ]
  },
  {
   "cell_type": "code",
   "execution_count": null,
   "id": "f5d04000-7bba-4a64-8bb3-5039617f9e4b",
   "metadata": {},
   "outputs": [],
   "source": [
    "NAME = \"jupyterlab_lsp\"\n",
    "GH_ORG = \"jupyter-lsp\"\n",
    "URL = f\"https://github.com/{GH_ORG}/jupyterlab-lsp\""
   ]
  },
  {
   "cell_type": "code",
   "execution_count": null,
   "id": "101b458b-f951-4de5-9b55-50e3f9d74a1d",
   "metadata": {},
   "outputs": [],
   "source": [
    "import importnb\n",
    "\n",
    "with importnb.Notebook():\n",
    "    from jupyak.tasks import __jupyter_server, __lumino\n",
    "    from jupyak.tasks import _well_known as W\n",
    "    from jupyak.tasks import _yak as Y"
   ]
  },
  {
   "cell_type": "code",
   "execution_count": null,
   "id": "92a27364-c626-4ebc-a244-4664fe675ba7",
   "metadata": {},
   "outputs": [],
   "source": [
    "j_lsp = \"python_packages/jupyter_lsp\"\n",
    "j_lsp_schema = f\"{j_lsp}/jupyter_lsp/schema/schema.json\"\n",
    "jl_lsp = \"python_packages/jupyterlab_lsp\"\n",
    "jl_lsp_ext_pj = (\n",
    "    f\"{jl_lsp}/jupyterlab_lsp/labextensions/@jupyter-lsp/jupyterlab-lsp/package.json\"\n",
    ")"
   ]
  },
  {
   "cell_type": "code",
   "execution_count": null,
   "id": "53340150-e293-400d-b9e6-eb7de9637184",
   "metadata": {},
   "outputs": [],
   "source": [
    "js_ext = \"packages/jupyterlab-lsp\"\n",
    "schema_ts = f\"{js_ext}/src/_schema.ts\"\n",
    "mp = \"packages/metapackage\"\n",
    "js_ext_tsbi = f\"{mp}/{W.TSCONFIG_BUILDINFO}\""
   ]
  },
  {
   "cell_type": "code",
   "execution_count": null,
   "id": "2fe457be-1e25-41cf-8e8c-aad9487f2c45",
   "metadata": {},
   "outputs": [],
   "source": [
    "JS_TASKS = {\n",
    "    f\"./{js_ext}/\": [\n",
    "        {\n",
    "            \"name\": \"schema\",\n",
    "            \"actions\": [[\"yarn\", \"build:schema\"]],\n",
    "            \"file_dep\": [f\"{js_ext}/schema/*.json\", j_lsp_schema],\n",
    "            \"targets\": [\n",
    "                schema_ts,\n",
    "                {\"glob_neighbor\": [f\"{js_ext}/schema/*.json\", \"../../src/_{stem}.ts\"]},\n",
    "            ],\n",
    "        }\n",
    "    ],\n",
    "    \"./\": [\n",
    "        {\n",
    "            \"name\": \"build\",\n",
    "            \"actions\": [[\"yarn\", \"build:meta\"]],\n",
    "            \"file_dep\": [\"packages/*/src/**/*.ts\", schema_ts],\n",
    "            \"targets\": [js_ext_tsbi],\n",
    "        }\n",
    "    ],\n",
    "}"
   ]
  },
  {
   "cell_type": "code",
   "execution_count": null,
   "id": "22c885ea-f5b4-429a-b9c2-c81944bc72fa",
   "metadata": {},
   "outputs": [],
   "source": [
    "LAB_EXT = {\n",
    "    f\"./{jl_lsp}/\": {\n",
    "        \"file_dep\": [js_ext_tsbi, schema_ts],\n",
    "        \"targets\": [jl_lsp_ext_pj],\n",
    "    },\n",
    "}"
   ]
  },
  {
   "cell_type": "code",
   "execution_count": null,
   "id": "7d941067-2c56-4cb4-b7bf-0901fbf4214d",
   "metadata": {},
   "outputs": [],
   "source": [
    "FUTURE_JS = {\"js\": {\"dependencies\": [__lumino.NAME, \"jupyterlab\"], \"tasks\": JS_TASKS}}\n",
    "FUTURE_PY = {\"labextensions\": LAB_EXT}"
   ]
  },
  {
   "cell_type": "code",
   "execution_count": null,
   "id": "fe6db5f5-bbf3-4ddd-a950-29a294321290",
   "metadata": {},
   "outputs": [],
   "source": [
    "DEFAULTS = {\n",
    "    \"name\": NAME,\n",
    "    \"github\": {\"url\": URL},\n",
    "    \"py\": {\n",
    "        \"dependencies\": [__jupyter_server.NAME],\n",
    "        \"pyproject_tomls\": [],\n",
    "        \"setup_cfgs\": [f\"{j}/setup.cfg\" for j in [j_lsp]],\n",
    "        # FUTURE_PY\n",
    "    },\n",
    "    # FUTURE_JS\n",
    "}"
   ]
  },
  {
   "cell_type": "markdown",
   "id": "04012c7c-f353-4925-ad82-4dbdea484c13",
   "metadata": {},
   "source": [
    "## schema"
   ]
  },
  {
   "cell_type": "code",
   "execution_count": null,
   "id": "de3526c6-ca4e-4360-b378-615f621e2456",
   "metadata": {},
   "outputs": [],
   "source": [
    "@Y.Yak.repo(NAME, tuple(DEFAULTS[\"py\"][\"dependencies\"]))\n",
    "def default_factory(yak: Y.Yak):\n",
    "    return DEFAULTS"
   ]
  }
 ],
 "metadata": {
  "kernelspec": {
   "display_name": "Python 3 (ipykernel)",
   "language": "python",
   "name": "python3"
  },
  "language_info": {
   "codemirror_mode": {
    "name": "ipython",
    "version": 3
   },
   "file_extension": ".py",
   "mimetype": "text/x-python",
   "name": "python",
   "nbconvert_exporter": "python",
   "pygments_lexer": "ipython3",
   "version": "3.11.6"
  }
 },
 "nbformat": 4,
 "nbformat_minor": 5
}
