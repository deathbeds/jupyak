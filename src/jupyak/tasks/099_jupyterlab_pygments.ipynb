{
 "cells": [
  {
   "cell_type": "markdown",
   "id": "4b8fa94a-9938-4d4d-9212-b8981f5520d1",
   "metadata": {},
   "source": [
    "# jupyterlab_pygments\n",
    "\n",
    "> [`jupyterlab_pygments`](https://github.com/jupyterlab/jupyterlab_pygments) offers a compatibility layer between JupyterLab CSS and the [pygments](https://github.com/pygments/pygments) syntax highlighting ecosystem."
   ]
  },
  {
   "cell_type": "code",
   "execution_count": null,
   "id": "2f02033a-8284-4d5d-a598-2dc8c0228dbd",
   "metadata": {},
   "outputs": [],
   "source": [
    "NAME = \"jupyterlab_pygments\"\n",
    "GH_ORG = \"jupyterlab\"\n",
    "URL = f\"https://github.com/{GH_ORG}/{NAME}\""
   ]
  },
  {
   "cell_type": "code",
   "execution_count": null,
   "id": "ccbe8b70-15fb-4b2c-824c-1635e479c466",
   "metadata": {},
   "outputs": [],
   "source": [
    "import importnb\n",
    "\n",
    "with importnb.Notebook():\n",
    "    from jupyak.tasks import __lumino\n",
    "    from jupyak.tasks import _well_known as W\n",
    "    from jupyak.tasks import _yak as Y"
   ]
  },
  {
   "cell_type": "markdown",
   "id": "868ca23d-757e-4c31-8bea-dfb10fd75f43",
   "metadata": {},
   "source": [
    "## schema"
   ]
  },
  {
   "cell_type": "code",
   "execution_count": null,
   "id": "cff1c60e-bb57-42f2-af60-c5aaa41eea84",
   "metadata": {},
   "outputs": [],
   "source": [
    "jp_pyg = \"jupyterlab_pygments\"\n",
    "jp_pyg_py = f\"{jp_pyg}/style.py\"\n",
    "jp_pyg_css = \"style/base.css\"\n",
    "jp_pyg_pkg_json = f\"{jp_pyg}/labextension/{W.PACKAGE_JSON}\""
   ]
  },
  {
   "cell_type": "code",
   "execution_count": null,
   "id": "4aa1dd2f-92ba-41f6-87d4-f5e1b3b91933",
   "metadata": {},
   "outputs": [],
   "source": [
    "JS_TASKS = {\n",
    "    \".\": [\n",
    "        {\n",
    "            \"name\": \"build:css\",\n",
    "            \"actions\": [[\"yarn\", \"build:css\"]],\n",
    "            \"file_dep\": [jp_pyg_py],\n",
    "            \"targets\": [jp_pyg_css],\n",
    "        },\n",
    "        {\n",
    "            \"name\": \"build:lib\",\n",
    "            \"actions\": [[\"yarn\", \"build:lib\", \"--skipLibCheck\"]],\n",
    "            \"file_dep\": [\"src/**/*.ts\"],\n",
    "            \"targets\": [W.TSCONFIG_BUILDINFO],\n",
    "        },\n",
    "    ]\n",
    "}"
   ]
  },
  {
   "cell_type": "code",
   "execution_count": null,
   "id": "063ac78a-8077-4b39-a901-54e1734f4d96",
   "metadata": {},
   "outputs": [],
   "source": [
    "LAB_EXT = {\n",
    "    \".\": {\n",
    "        \"file_dep\": [W.TSCONFIG_BUILDINFO, jp_pyg_css],\n",
    "        \"targets\": [jp_pyg_pkg_json],\n",
    "    },\n",
    "}"
   ]
  },
  {
   "cell_type": "code",
   "execution_count": null,
   "id": "d2dc54bf-596d-4439-b64f-2a5a5330eeba",
   "metadata": {},
   "outputs": [],
   "source": [
    "DEFAULTS = {\n",
    "    \"name\": NAME,\n",
    "    \"github\": {\"url\": URL},\n",
    "    \"js\": {\n",
    "        \"dependencies\": [\n",
    "            __lumino.NAME,\n",
    "            \"jupyterlab\",\n",
    "        ],\n",
    "        \"tasks\": JS_TASKS,\n",
    "    },\n",
    "    \"py\": {\n",
    "        \"lab_extensions\": LAB_EXT,\n",
    "    },\n",
    "    \"lite\": {\n",
    "        \"wheel\": True,\n",
    "        \"wheel_file_dep\": {jp_pyg: [jp_pyg_pkg_json]},\n",
    "    },\n",
    "}"
   ]
  },
  {
   "cell_type": "code",
   "execution_count": null,
   "id": "ed9c75b3-f1e6-4858-9250-9e4993cf6dcd",
   "metadata": {},
   "outputs": [],
   "source": [
    "@Y.Yak.repo(NAME, (__lumino.NAME,))\n",
    "def default_factory(yak: Y.Yak):\n",
    "    return DEFAULTS"
   ]
  }
 ],
 "metadata": {
  "kernelspec": {
   "display_name": "Python 3 (ipykernel)",
   "language": "python",
   "name": "python3"
  },
  "language_info": {
   "codemirror_mode": {
    "name": "ipython",
    "version": 3
   },
   "file_extension": ".py",
   "mimetype": "text/x-python",
   "name": "python",
   "nbconvert_exporter": "python",
   "pygments_lexer": "ipython3",
   "version": "3.11.6"
  }
 },
 "nbformat": 4,
 "nbformat_minor": 5
}
