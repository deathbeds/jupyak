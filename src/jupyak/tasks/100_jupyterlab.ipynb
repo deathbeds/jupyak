{
 "cells": [
  {
   "cell_type": "markdown",
   "id": "4b8fa94a-9938-4d4d-9212-b8981f5520d1",
   "metadata": {},
   "source": [
    "# jupyterlab\n",
    "\n",
    "> `jupyterlab` is both the high-level building blocks of Jupyter clients, as well as the reference implementation of a composable, IDE-like environment. It also has the most involved build and distribution setup."
   ]
  },
  {
   "cell_type": "code",
   "execution_count": null,
   "id": "2f02033a-8284-4d5d-a598-2dc8c0228dbd",
   "metadata": {},
   "outputs": [],
   "source": [
    "GH_ORG = NAME = \"jupyterlab\"\n",
    "JS_NS = \"@jupyterlab\"\n",
    "URL = f\"https://github.com/{GH_ORG}/{NAME}\""
   ]
  },
  {
   "cell_type": "code",
   "execution_count": null,
   "id": "ccbe8b70-15fb-4b2c-824c-1635e479c466",
   "metadata": {},
   "outputs": [],
   "source": [
    "from pathlib import Path\n",
    "\n",
    "import importnb\n",
    "\n",
    "with importnb.Notebook():\n",
    "    from jupyak.tasks import (\n",
    "        __ipykernel,\n",
    "        __jupyterlab_server,\n",
    "        __lumino,\n",
    "        __notebook_shim,\n",
    "    )\n",
    "    from jupyak.tasks import _actions as A\n",
    "    from jupyak.tasks import _well_known as W\n",
    "    from jupyak.tasks import _yak as Y"
   ]
  },
  {
   "cell_type": "markdown",
   "id": "868ca23d-757e-4c31-8bea-dfb10fd75f43",
   "metadata": {},
   "source": [
    "## schema"
   ]
  },
  {
   "cell_type": "code",
   "execution_count": null,
   "id": "50a1c3b1-81ea-4ca9-a9a3-2b5c1c4a54c8",
   "metadata": {},
   "outputs": [],
   "source": [
    "bu = \"buildutils\"\n",
    "br = \"builder\"\n",
    "bu_tsbi = f\"{bu}/{W.TSCONFIG_BUILDINFO}\"\n",
    "br_tsbi = f\"{br}/{W.TSCONFIG_BUILDINFO}\"\n",
    "br_lib_js = f\"{br}/lib/build-labextension.js\"\n",
    "m_tsbi = f\"packages/metapackage/{W.TSCONFIG_BUILDINFO}\"\n",
    "dm = \"dev_mode\"\n",
    "dm_static_pj = f\"{dm}/static/{W.PACKAGE_JSON}\"\n",
    "JS_ROOT_TASKS = [\n",
    "    {\n",
    "        \"name\": \"buildutils\",\n",
    "        \"actions\": [[\"yarn\", \"build:utils\"]],\n",
    "        \"file_dep\": [f\"{bu}/src/**/*.ts\", f\"{bu}/{W.PACKAGE_JSON}\"],\n",
    "        \"targets\": [bu_tsbi],\n",
    "    },\n",
    "    {\n",
    "        \"name\": \"builder\",\n",
    "        \"actions\": [[\"yarn\", \"build:builder\"]],\n",
    "        \"file_dep\": [f\"{br}/src/**/*.ts\", f\"{br}/{W.PACKAGE_JSON}\"],\n",
    "        \"targets\": [br_tsbi, br_lib_js],\n",
    "    },\n",
    "]\n",
    "JS_META_TASKS = [\n",
    "    {\n",
    "        \"name\": \"build\",\n",
    "        \"actions\": [[\"yarn\", \"build\"]],\n",
    "        \"file_dep\": [\n",
    "            f\"../lumino/packages/*/{W.TSCONFIG_BUILDINFO}\",\n",
    "            \"packages/*/src/**/*.ts\",\n",
    "            \"packages/*/src/**/*.tsx\",\n",
    "        ],\n",
    "        \"targets\": [m_tsbi],\n",
    "    },\n",
    "]\n",
    "JS_DEV_TASKS = [\n",
    "    {\n",
    "        \"name\": \"build:prod\",\n",
    "        \"actions\": [[\"yarn\", \"build:prod\"]],\n",
    "        \"file_dep\": [\n",
    "            br_tsbi,\n",
    "            bu_tsbi,\n",
    "            m_tsbi,\n",
    "            \"packages/*/schema/*.json\",\n",
    "            \"packages/*/style/**/*.css\",\n",
    "            \"packages/*/style/**/*.svg\",\n",
    "            \"packages/*/style/**/*.js\",\n",
    "        ],\n",
    "        \"targets\": [dm_static_pj],\n",
    "    },\n",
    "]\n",
    "JS_DIST_TASKS = {\n",
    "    \"./\": JS_ROOT_TASKS,\n",
    "    \"./packages/metapackage/\": JS_META_TASKS,\n",
    "    \"./dev_mode/\": JS_DEV_TASKS,\n",
    "}"
   ]
  },
  {
   "cell_type": "code",
   "execution_count": null,
   "id": "7b6e89e0-59f3-428b-8069-dd9eaac14c61",
   "metadata": {},
   "outputs": [],
   "source": [
    "DEFAULTS = {\n",
    "    \"name\": NAME,\n",
    "    \"github\": {\"url\": URL},\n",
    "    \"js\": {\n",
    "        \"dependencies\": [\n",
    "            __lumino.NAME,\n",
    "        ],\n",
    "        \"tasks\": JS_DIST_TASKS,\n",
    "        \"dist_exclude_patterns\": [\n",
    "            \"/galata\",\n",
    "            \"/examples\",\n",
    "            \"/dev_mode\",\n",
    "            \"/metapackage\",\n",
    "            \"/mock\",\n",
    "        ],\n",
    "    },\n",
    "    \"py\": {\n",
    "        \"dependencies\": [\n",
    "            __jupyterlab_server.NAME,\n",
    "            __ipykernel.NAME,\n",
    "            __notebook_shim.NAME,\n",
    "            \"jupyter_lsp\",\n",
    "        ],\n",
    "        \"file_dep\": [\n",
    "            dm_static_pj,\n",
    "        ],\n",
    "    },\n",
    "}"
   ]
  },
  {
   "cell_type": "markdown",
   "id": "92d0fb75-132c-4a55-aff2-b88698292f7f",
   "metadata": {},
   "source": [
    "> technically, the `jupyterlab` python package depends on `jupyter_lsp`, but this doesn't block building the JupyterLite site. See more in the [`jupyterlab_lsp` notebook](./075_jupyterlab_lsp.ipynb)."
   ]
  },
  {
   "cell_type": "code",
   "execution_count": null,
   "id": "9e3b8eb0-54ec-4c68-9260-fbb817157923",
   "metadata": {},
   "outputs": [],
   "source": [
    "CLEAN_REPO_DEPS = tuple(\n",
    "    [p for p in DEFAULTS[\"py\"][\"dependencies\"] if p != \"jupyter_lsp\"]\n",
    "    + DEFAULTS[\"js\"][\"dependencies\"]\n",
    ")"
   ]
  },
  {
   "cell_type": "code",
   "execution_count": null,
   "id": "8d7a706e-cdf9-4c41-b6dd-cf3f1b119808",
   "metadata": {},
   "outputs": [],
   "source": [
    "@Y.Yak.repo(NAME, CLEAN_REPO_DEPS)\n",
    "def default_factory(yak: Y.Yak):\n",
    "    return DEFAULTS"
   ]
  },
  {
   "cell_type": "markdown",
   "id": "862b36a3-4bde-4eb4-a33a-10f788530453",
   "metadata": {},
   "source": [
    "## tasks"
   ]
  },
  {
   "cell_type": "markdown",
   "id": "b53b226c-4997-4b6d-b8c3-dfd506f88de5",
   "metadata": {},
   "source": [
    "> some custom tasks are needed to fool the rest of the build chain"
   ]
  },
  {
   "cell_type": "code",
   "execution_count": null,
   "id": "cd66717a-a432-46df-bd5d-86d5e892aed6",
   "metadata": {},
   "outputs": [],
   "source": [
    "def task_sweep():\n",
    "    with importnb.Notebook():\n",
    "        from jupyak.tasks import _shave as S\n",
    "\n",
    "    yak = S._ensure_yak()\n",
    "    repo = yak.repos[\"jupyterlab\"]\n",
    "    work_dir, in_repo = repo.run_context\n",
    "\n",
    "    subdirs = [\"static\", \"themes\", \"schemas\"]\n",
    "    dev_mode = work_dir / \"dev_mode\"\n",
    "    dests = [yak.env.lab_share, work_dir / \"jupyterlab/staging\"]\n",
    "\n",
    "    yield dict(\n",
    "        name=\"assets\",\n",
    "        actions=[\n",
    "            (A.copy, [dev_mode / subdir, dest / subdir])\n",
    "            for subdir in subdirs\n",
    "            for dest in dests\n",
    "        ],\n",
    "        file_dep=[work_dir / f\"dev_mode/static/{W.PACKAGE_JSON}\"],\n",
    "        targets=[*[dest / \"static\" / W.PACKAGE_JSON for dest in dests]],\n",
    "    )\n",
    "\n",
    "    br_lib_js_path = repo.work_path / br_lib_js\n",
    "    script_path = repo.py.labextension_script\n",
    "\n",
    "    yield dict(\n",
    "        name=\"labextension\",\n",
    "        doc=\"> create a patched labextension script\",\n",
    "        file_dep=[br_lib_js_path],\n",
    "        targets=[script_path],\n",
    "        actions=[\n",
    "            (_write_labextension_script, [script_path, br_lib_js_path]),\n",
    "        ],\n",
    "    )"
   ]
  },
  {
   "cell_type": "markdown",
   "id": "fc9c11cb-ba1b-4cda-a525-59ceb558f79d",
   "metadata": {},
   "source": [
    "> some custom tasks are needed to fool the rest of the build chain"
   ]
  },
  {
   "cell_type": "markdown",
   "id": "3c0e8c6b-2295-4437-a156-fcca7f68f834",
   "metadata": {},
   "source": [
    "## utilities "
   ]
  },
  {
   "cell_type": "code",
   "execution_count": null,
   "id": "639f2c1f-89d1-4408-8145-875d642a2cfa",
   "metadata": {},
   "outputs": [],
   "source": [
    "def _write_labextension_script(dest: Path, lib_js: Path):\n",
    "    dest.parent.mkdir(parents=True, exist_ok=True)\n",
    "    dest.write_text(\n",
    "        f\"\"\"\n",
    "import sys\n",
    "print(\"DELETEME\", sys.prefix)\n",
    "from jupyterlab import federated_labextensions\n",
    "from jupyterlab.labextensions import LabExtensionApp\n",
    "federated_labextensions._ensure_builder = lambda *_: \"{lib_js}\"\n",
    "\n",
    "main = LabExtensionApp.launch_instance\n",
    "\n",
    "if __name__ == \"__main__\":\n",
    "    sys.exit(main())\n",
    "\"\"\",\n",
    "    )"
   ]
  }
 ],
 "metadata": {
  "kernelspec": {
   "display_name": "Python 3 (ipykernel)",
   "language": "python",
   "name": "python3"
  },
  "language_info": {
   "codemirror_mode": {
    "name": "ipython",
    "version": 3
   },
   "file_extension": ".py",
   "mimetype": "text/x-python",
   "name": "python",
   "nbconvert_exporter": "python",
   "pygments_lexer": "ipython3",
   "version": "3.11.6"
  }
 },
 "nbformat": 4,
 "nbformat_minor": 5
}
